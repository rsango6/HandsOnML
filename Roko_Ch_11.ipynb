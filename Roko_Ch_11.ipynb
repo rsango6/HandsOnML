{
 "cells": [
  {
   "cell_type": "code",
   "execution_count": null,
   "id": "f77f375a",
   "metadata": {},
   "outputs": [],
   "source": [
    "#Chapter 11. Training Deep Neural Networks"
   ]
  },
  {
   "cell_type": "code",
   "execution_count": null,
   "id": "5fee71ab",
   "metadata": {},
   "outputs": [],
   "source": [
    "#In Chapter 10 you built, trained, and fine-tuned your first \n",
    "#artificial neural networks. But they were shallow nets, with \n",
    "#just a few hidden layers. What if you need to tackle a complex \n",
    "#problem, such as detecting hundreds of types of objects in \n",
    "#high-resolution images? You may need to train a much deeper ANN,\n",
    "#perhaps with 10 layers or many more, each containing hundreds\n",
    "#of neurons, linked by hundreds of thousands of connections.\n",
    "#Training a deep neural network isn’t a walk in the park.\n",
    "#Here are some of the problems you could run into:\n",
    "\n",
    "#You may be faced with the problem of gradients growing ever smaller\n",
    "#or larger, when flowing backward through the DNN during training.\n",
    "#Both of these problems make lower layers very hard to train.\n",
    "\n",
    "#You might not have enough training data for such a large network, \n",
    "#or it might be too costly to label.\n",
    "\n",
    "#Training may be extremely slow.\n",
    "\n",
    "#A model with millions of parameters would severely risk overfitting\n",
    "#the training set, especially if there are not enough training instances\n",
    "#or if they are too noisy.\n",
    "\n",
    "\n",
    "#In this chapter we will go through each of these problems and present\n",
    "#techniques to solve them. We will start by exploring the vanishing and\n",
    "#exploding gradients problems and some of their most popular solutions.\n",
    "#Next, we will look at transfer learning and unsupervised pretraining,\n",
    "#which can help you tackle complex tasks even when you have little\n",
    "#labeled data. Then we will discuss various optimizers that can speed\n",
    "#up training large models tremendously. Finally, we will cover a few\n",
    "#popular regularization techniques for large neural networks.\n",
    "\n",
    "\n",
    "#With these tools, you will be able to train very deep nets. \n",
    "#Welcome to deep learning!"
   ]
  },
  {
   "cell_type": "code",
   "execution_count": null,
   "id": "1c062ac6",
   "metadata": {},
   "outputs": [],
   "source": [
    "#As discussed in Chapter 10, the backpropagation algorithm’s second \n",
    "#phase works by going from the output layer to the input layer, \n",
    "#propagating the error gradient along the way. Once the algorithm\n",
    "#has computed the gradient of the cost function with regard to\n",
    "#each parameter in the network, it uses these gradients to update\n",
    "#each parameter with a gradient descent step.\n",
    "\n",
    "#Unfortunately, gradients often get smaller and smaller as the\n",
    "#algorithm progresses down to the lower layers. As a result, the \n",
    "#gradient descent update leaves the lower layers’ connection weights\n",
    "#virtually unchanged, and training never converges to a good solution.\n",
    "#This is called the vanishing gradients problem. In some cases, the\n",
    "#opposite can happen: the gradients can grow bigger and bigger until\n",
    "#layers get insanely large weight updates and the algorithm diverges.\n",
    "#This is the exploding gradients problem, which surfaces most often\n",
    "#in recurrent neural networks (see Chapter 15). More generally, deep\n",
    "#neural networks suffer from unstable gradients; different layers may\n",
    "#learn at widely different speeds."
   ]
  },
  {
   "cell_type": "code",
   "execution_count": null,
   "id": "0a5270f5",
   "metadata": {},
   "outputs": [],
   "source": []
  },
  {
   "cell_type": "code",
   "execution_count": null,
   "id": "79740378",
   "metadata": {},
   "outputs": [],
   "source": []
  },
  {
   "cell_type": "code",
   "execution_count": null,
   "id": "c4ee89ff",
   "metadata": {},
   "outputs": [],
   "source": []
  },
  {
   "cell_type": "code",
   "execution_count": null,
   "id": "69bf8bc6",
   "metadata": {},
   "outputs": [],
   "source": []
  },
  {
   "cell_type": "code",
   "execution_count": null,
   "id": "42a0719b",
   "metadata": {},
   "outputs": [],
   "source": []
  },
  {
   "cell_type": "code",
   "execution_count": null,
   "id": "74aca076",
   "metadata": {},
   "outputs": [],
   "source": []
  },
  {
   "cell_type": "code",
   "execution_count": null,
   "id": "6595f60f",
   "metadata": {},
   "outputs": [],
   "source": []
  },
  {
   "cell_type": "code",
   "execution_count": null,
   "id": "3264207f",
   "metadata": {},
   "outputs": [],
   "source": []
  },
  {
   "cell_type": "code",
   "execution_count": null,
   "id": "07927681",
   "metadata": {},
   "outputs": [],
   "source": []
  },
  {
   "cell_type": "code",
   "execution_count": null,
   "id": "8d7c75b4",
   "metadata": {},
   "outputs": [],
   "source": []
  },
  {
   "cell_type": "code",
   "execution_count": null,
   "id": "0d0bf10e",
   "metadata": {},
   "outputs": [],
   "source": []
  },
  {
   "cell_type": "code",
   "execution_count": null,
   "id": "2404b0dc",
   "metadata": {},
   "outputs": [],
   "source": []
  },
  {
   "cell_type": "code",
   "execution_count": null,
   "id": "79ca7767",
   "metadata": {},
   "outputs": [],
   "source": []
  },
  {
   "cell_type": "code",
   "execution_count": null,
   "id": "689b4f55",
   "metadata": {},
   "outputs": [],
   "source": []
  },
  {
   "cell_type": "code",
   "execution_count": null,
   "id": "21db6d57",
   "metadata": {},
   "outputs": [],
   "source": []
  },
  {
   "cell_type": "code",
   "execution_count": null,
   "id": "d0ac85d6",
   "metadata": {},
   "outputs": [],
   "source": []
  },
  {
   "cell_type": "code",
   "execution_count": null,
   "id": "4a5569b9",
   "metadata": {},
   "outputs": [],
   "source": []
  },
  {
   "cell_type": "code",
   "execution_count": null,
   "id": "b1eada69",
   "metadata": {},
   "outputs": [],
   "source": []
  },
  {
   "cell_type": "code",
   "execution_count": null,
   "id": "3d0e78d9",
   "metadata": {},
   "outputs": [],
   "source": []
  },
  {
   "cell_type": "code",
   "execution_count": null,
   "id": "734af1d5",
   "metadata": {},
   "outputs": [],
   "source": []
  },
  {
   "cell_type": "code",
   "execution_count": null,
   "id": "302e39c8",
   "metadata": {},
   "outputs": [],
   "source": []
  },
  {
   "cell_type": "code",
   "execution_count": null,
   "id": "cdfb4505",
   "metadata": {},
   "outputs": [],
   "source": []
  },
  {
   "cell_type": "code",
   "execution_count": null,
   "id": "fa5bd4e8",
   "metadata": {},
   "outputs": [],
   "source": []
  },
  {
   "cell_type": "code",
   "execution_count": null,
   "id": "2bf11774",
   "metadata": {},
   "outputs": [],
   "source": []
  },
  {
   "cell_type": "code",
   "execution_count": null,
   "id": "316245b9",
   "metadata": {},
   "outputs": [],
   "source": []
  },
  {
   "cell_type": "code",
   "execution_count": null,
   "id": "3e89f323",
   "metadata": {},
   "outputs": [],
   "source": []
  },
  {
   "cell_type": "code",
   "execution_count": null,
   "id": "3fc1d3f7",
   "metadata": {},
   "outputs": [],
   "source": []
  },
  {
   "cell_type": "code",
   "execution_count": null,
   "id": "3f8b65bb",
   "metadata": {},
   "outputs": [],
   "source": []
  },
  {
   "cell_type": "code",
   "execution_count": null,
   "id": "6417852f",
   "metadata": {},
   "outputs": [],
   "source": []
  },
  {
   "cell_type": "code",
   "execution_count": null,
   "id": "f5d5fba2",
   "metadata": {},
   "outputs": [],
   "source": []
  },
  {
   "cell_type": "code",
   "execution_count": null,
   "id": "4ad1f453",
   "metadata": {},
   "outputs": [],
   "source": []
  },
  {
   "cell_type": "code",
   "execution_count": null,
   "id": "ddade078",
   "metadata": {},
   "outputs": [],
   "source": []
  },
  {
   "cell_type": "code",
   "execution_count": null,
   "id": "b5a59721",
   "metadata": {},
   "outputs": [],
   "source": []
  },
  {
   "cell_type": "code",
   "execution_count": null,
   "id": "f08136a6",
   "metadata": {},
   "outputs": [],
   "source": []
  },
  {
   "cell_type": "code",
   "execution_count": null,
   "id": "6640468b",
   "metadata": {},
   "outputs": [],
   "source": []
  },
  {
   "cell_type": "code",
   "execution_count": null,
   "id": "74051a84",
   "metadata": {},
   "outputs": [],
   "source": []
  }
 ],
 "metadata": {
  "kernelspec": {
   "display_name": "Python 3 (ipykernel)",
   "language": "python",
   "name": "python3"
  },
  "language_info": {
   "codemirror_mode": {
    "name": "ipython",
    "version": 3
   },
   "file_extension": ".py",
   "mimetype": "text/x-python",
   "name": "python",
   "nbconvert_exporter": "python",
   "pygments_lexer": "ipython3",
   "version": "3.10.8"
  }
 },
 "nbformat": 4,
 "nbformat_minor": 5
}
