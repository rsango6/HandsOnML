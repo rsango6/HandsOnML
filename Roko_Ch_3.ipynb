{
 "cells": [
  {
   "cell_type": "code",
   "execution_count": 10,
   "id": "7be2604d",
   "metadata": {},
   "outputs": [
    {
     "data": {
      "text/plain": [
       "sklearn.utils._bunch.Bunch"
      ]
     },
     "execution_count": 10,
     "metadata": {},
     "output_type": "execute_result"
    }
   ],
   "source": [
    "#Chapter 3. Classification\n",
    "\n",
    "\n",
    "#In Chapter 1 I mentioned that the most common supervised learning \n",
    "#tasks are regression (predicting values) and classification (predicting\n",
    "#classes). In Chapter 2 we explored a regression task, predicting\n",
    "#housing values, using various algorithms such as linear regression, \n",
    "#decision trees, and random forests (which will be explained in further\n",
    "#detail in later chapters). Now we will turn our attention to \n",
    "#classification systems.\n",
    "\n",
    "#MNIST\n",
    "#In this chapter we will be using the MNIST dataset, which is \n",
    "#a set of 70,000 small images of digits handwritten by high \n",
    "#school students and employees of the US Census Bureau. Each \n",
    "#image is labeled with the digit it represents. This set has\n",
    "#been studied so much that it is often called the “hello world” \n",
    "#of machine learning: whenever people come up with a new classification\n",
    "#algorithm they are curious to see how it will perform on MNIST,\n",
    "#and anyone who learns machine learning tackles this dataset sooner \n",
    "#or later.\n",
    "    \n",
    "\n",
    "from sklearn.datasets import fetch_openml\n",
    "\n",
    "mnist = fetch_openml('mnist_784', as_frame=False)\n",
    "    \n",
    "    \n",
    "type(mnist)"
   ]
  },
  {
   "cell_type": "code",
   "execution_count": 11,
   "id": "e4202f4e",
   "metadata": {},
   "outputs": [
    {
     "data": {
      "text/plain": [
       "array([[0., 0., 0., ..., 0., 0., 0.],\n",
       "       [0., 0., 0., ..., 0., 0., 0.],\n",
       "       [0., 0., 0., ..., 0., 0., 0.],\n",
       "       ...,\n",
       "       [0., 0., 0., ..., 0., 0., 0.],\n",
       "       [0., 0., 0., ..., 0., 0., 0.],\n",
       "       [0., 0., 0., ..., 0., 0., 0.]])"
      ]
     },
     "execution_count": 11,
     "metadata": {},
     "output_type": "execute_result"
    }
   ],
   "source": [
    "mnist['data']"
   ]
  },
  {
   "cell_type": "code",
   "execution_count": 12,
   "id": "451438d7",
   "metadata": {},
   "outputs": [
    {
     "data": {
      "text/plain": [
       "array(['5', '0', '4', ..., '4', '5', '6'], dtype=object)"
      ]
     },
     "execution_count": 12,
     "metadata": {},
     "output_type": "execute_result"
    }
   ],
   "source": [
    "mnist['target']"
   ]
  },
  {
   "cell_type": "code",
   "execution_count": 13,
   "id": "32ea945d",
   "metadata": {},
   "outputs": [
    {
     "data": {
      "text/plain": [
       "array([[0., 0., 0., ..., 0., 0., 0.],\n",
       "       [0., 0., 0., ..., 0., 0., 0.],\n",
       "       [0., 0., 0., ..., 0., 0., 0.],\n",
       "       ...,\n",
       "       [0., 0., 0., ..., 0., 0., 0.],\n",
       "       [0., 0., 0., ..., 0., 0., 0.],\n",
       "       [0., 0., 0., ..., 0., 0., 0.]])"
      ]
     },
     "execution_count": 13,
     "metadata": {},
     "output_type": "execute_result"
    }
   ],
   "source": [
    "mnist.data"
   ]
  },
  {
   "cell_type": "code",
   "execution_count": 14,
   "id": "66697d3e",
   "metadata": {},
   "outputs": [
    {
     "data": {
      "text/plain": [
       "array([[0., 0., 0., ..., 0., 0., 0.],\n",
       "       [0., 0., 0., ..., 0., 0., 0.],\n",
       "       [0., 0., 0., ..., 0., 0., 0.],\n",
       "       ...,\n",
       "       [0., 0., 0., ..., 0., 0., 0.],\n",
       "       [0., 0., 0., ..., 0., 0., 0.],\n",
       "       [0., 0., 0., ..., 0., 0., 0.]])"
      ]
     },
     "execution_count": 14,
     "metadata": {},
     "output_type": "execute_result"
    }
   ],
   "source": [
    "#The fetch_openml() function is a bit unusual since by default it \n",
    "#returns the inputs as a Pandas DataFrame and the labels as a \n",
    "#Pandas Series (unless the dataset is sparse). But the MNIST \n",
    "#dataset contains images, and DataFrames aren’t ideal for that, \n",
    "#so it’s preferable to set as_frame=False to get the data as NumPy \n",
    "#arrays instead. Let’s look at these arrays:\n",
    "\n",
    "\n",
    "X, y = mnist.data, mnist.target\n",
    "\n",
    "X\n"
   ]
  },
  {
   "cell_type": "code",
   "execution_count": 15,
   "id": "e509f476",
   "metadata": {},
   "outputs": [
    {
     "data": {
      "text/plain": [
       "(70000, 784)"
      ]
     },
     "execution_count": 15,
     "metadata": {},
     "output_type": "execute_result"
    }
   ],
   "source": [
    "X.shape"
   ]
  },
  {
   "cell_type": "code",
   "execution_count": 16,
   "id": "69bee125",
   "metadata": {},
   "outputs": [
    {
     "data": {
      "text/plain": [
       "array(['5', '0', '4', ..., '4', '5', '6'], dtype=object)"
      ]
     },
     "execution_count": 16,
     "metadata": {},
     "output_type": "execute_result"
    }
   ],
   "source": [
    "y"
   ]
  },
  {
   "cell_type": "code",
   "execution_count": 17,
   "id": "16fe17b1",
   "metadata": {},
   "outputs": [
    {
     "data": {
      "text/plain": [
       "(70000,)"
      ]
     },
     "execution_count": 17,
     "metadata": {},
     "output_type": "execute_result"
    }
   ],
   "source": [
    "y.shape"
   ]
  },
  {
   "cell_type": "code",
   "execution_count": 18,
   "id": "106adff2",
   "metadata": {},
   "outputs": [
    {
     "data": {
      "image/png": "[encoded data removed]",
      "text/plain": [
       "<Figure size 640x480 with 1 Axes>"
      ]
     },
     "metadata": {},
     "output_type": "display_data"
    }
   ],
   "source": [
    "#There are 70,000 images, and each image has 784 features. This \n",
    "#is because each image is 28 × 28 pixels, and each feature simply \n",
    "#represents one pixel’s intensity, from 0 (white) to 255 (black). \n",
    "#Let’s take a peek at one digit from the dataset (Figure 3-1). All \n",
    "#we need to do is grab an instance’s feature vector, reshape it to \n",
    "#a 28 × 28 array, and display it using Matplotlib’s imshow() \n",
    "#function. We use cmap=\"binary\" to get a grayscale color map where\n",
    "#0 is white and 255 is black:\n",
    "\n",
    "\n",
    "import matplotlib.pyplot as plt\n",
    "\n",
    "def plot_digit(image_data):\n",
    "    image = image_data.reshape(28,28)\n",
    "    plt.imshow(image, cmap=\"binary\")\n",
    "    plt.axis(\"off\")\n",
    "    plt.show()\n",
    "\n",
    "some_digit = X[0]\n",
    "plot_digit(some_digit)\n"
   ]
  },
  {
   "cell_type": "code",
   "execution_count": 19,
   "id": "28f6e20c",
   "metadata": {},
   "outputs": [
    {
     "data": {
      "text/plain": [
       "'5'"
      ]
     },
     "execution_count": 19,
     "metadata": {},
     "output_type": "execute_result"
    }
   ],
   "source": [
    "y[0]"
   ]
  },
  {
   "cell_type": "code",
   "execution_count": 20,
   "id": "1b607322",
   "metadata": {},
   "outputs": [],
   "source": [
    "#But wait! You should always create a test set and set it aside \n",
    "#before inspecting the data closely. The MNIST dataset returned by\n",
    "#fetch_openml() is actually already split into a training set (the \n",
    "#first 60,000 images) and a test set (the last 10,000 images):\n",
    "\n",
    "\n",
    "X_train, X_test, y_train, y_test = X[:60000], X[60000:], y[:60000], y[60000:]"
   ]
  },
  {
   "cell_type": "code",
   "execution_count": 21,
   "id": "8c6e8d3f",
   "metadata": {},
   "outputs": [
    {
     "data": {
      "text/plain": [
       "(4, 784)"
      ]
     },
     "execution_count": 21,
     "metadata": {},
     "output_type": "execute_result"
    }
   ],
   "source": [
    "X[:4].shape"
   ]
  },
  {
   "cell_type": "code",
   "execution_count": 22,
   "id": "680a2b4b",
   "metadata": {},
   "outputs": [
    {
     "data": {
      "text/plain": [
       "(4,)"
      ]
     },
     "execution_count": 22,
     "metadata": {},
     "output_type": "execute_result"
    }
   ],
   "source": [
    "y[:4].shape"
   ]
  },
  {
   "cell_type": "code",
   "execution_count": 23,
   "id": "d965b610",
   "metadata": {},
   "outputs": [
    {
     "data": {
      "text/plain": [
       "array(['5', '0', '4', '1'], dtype=object)"
      ]
     },
     "execution_count": 23,
     "metadata": {},
     "output_type": "execute_result"
    }
   ],
   "source": [
    "y[:4]"
   ]
  },
  {
   "cell_type": "code",
   "execution_count": 24,
   "id": "9df1823e",
   "metadata": {},
   "outputs": [],
   "source": [
    "#The training set is already shuffled for us, which is good \n",
    "#because this guarantees that all cross-validation folds will \n",
    "#be similar (we don’t want one fold to be missing some digits).\n",
    "#Moreover, some learning algorithms are sensitive to the order of\n",
    "#the training instances, and they perform poorly if they get many\n",
    "#similar instances in a row. Shuffling the dataset ensures that \n",
    "#this won’t happen.\n",
    "\n",
    "\n",
    "\n",
    "#Training a Binary Classifier\n",
    "#Let’s simplify the problem for now and only try to identify one \n",
    "#digit—for example, the number 5. This “5-detector” will be an \n",
    "#example of a binary classifier, capable of distinguishing between \n",
    "#just two classes, 5 and non-5. First we’ll create the target vectors \n",
    "#for this classification task:\n",
    "\n",
    "\n",
    "\n",
    "y_train_5 = (y_train == '5') #True for all 5s, False for all other digits\n",
    "y_test_5 = (y_test == '5')\n",
    "\n"
   ]
  },
  {
   "cell_type": "code",
   "execution_count": 25,
   "id": "77757b10",
   "metadata": {},
   "outputs": [
    {
     "data": {
      "text/plain": [
       "array(['5', '0', '4', ..., '5', '6', '8'], dtype=object)"
      ]
     },
     "execution_count": 25,
     "metadata": {},
     "output_type": "execute_result"
    }
   ],
   "source": [
    "y_train"
   ]
  },
  {
   "cell_type": "code",
   "execution_count": 26,
   "id": "d4a65b1b",
   "metadata": {},
   "outputs": [
    {
     "data": {
      "text/plain": [
       "array([ True, False, False, ...,  True, False, False])"
      ]
     },
     "execution_count": 26,
     "metadata": {},
     "output_type": "execute_result"
    }
   ],
   "source": [
    "y_train_5"
   ]
  },
  {
   "cell_type": "code",
   "execution_count": 27,
   "id": "f22c6426",
   "metadata": {},
   "outputs": [
    {
     "data": {
      "text/plain": [
       "array([False, False, False, ..., False,  True, False])"
      ]
     },
     "execution_count": 27,
     "metadata": {},
     "output_type": "execute_result"
    }
   ],
   "source": [
    "y_test_5"
   ]
  },
  {
   "cell_type": "code",
   "execution_count": 28,
   "id": "f722f1d9",
   "metadata": {},
   "outputs": [
    {
     "data": {
      "text/html": [
       "<style>#sk-container-id-1 {color: black;background-color: white;}#sk-container-id-1 pre{padding: 0;}#sk-container-id-1 div.sk-toggleable {background-color: white;}#sk-container-id-1 label.sk-toggleable__label {cursor: pointer;display: block;width: 100%;margin-bottom: 0;padding: 0.3em;box-sizing: border-box;text-align: center;}#sk-container-id-1 label.sk-toggleable__label-arrow:before {content: \"▸\";float: left;margin-right: 0.25em;color: #696969;}#sk-container-id-1 label.sk-toggleable__label-arrow:hover:before {color: black;}#sk-container-id-1 div.sk-estimator:hover label.sk-toggleable__label-arrow:before {color: black;}#sk-container-id-1 div.sk-toggleable__content {max-height: 0;max-width: 0;overflow: hidden;text-align: left;background-color: #f0f8ff;}#sk-container-id-1 div.sk-toggleable__content pre {margin: 0.2em;color: black;border-radius: 0.25em;background-color: #f0f8ff;}#sk-container-id-1 input.sk-toggleable__control:checked~div.sk-toggleable__content {max-height: 200px;max-width: 100%;overflow: auto;}#sk-container-id-1 input.sk-toggleable__control:checked~label.sk-toggleable__label-arrow:before {content: \"▾\";}#sk-container-id-1 div.sk-estimator input.sk-toggleable__control:checked~label.sk-toggleable__label {background-color: #d4ebff;}#sk-container-id-1 div.sk-label input.sk-toggleable__control:checked~label.sk-toggleable__label {background-color: #d4ebff;}#sk-container-id-1 input.sk-hidden--visually {border: 0;clip: rect(1px 1px 1px 1px);clip: rect(1px, 1px, 1px, 1px);height: 1px;margin: -1px;overflow: hidden;padding: 0;position: absolute;width: 1px;}#sk-container-id-1 div.sk-estimator {font-family: monospace;background-color: #f0f8ff;border: 1px dotted black;border-radius: 0.25em;box-sizing: border-box;margin-bottom: 0.5em;}#sk-container-id-1 div.sk-estimator:hover {background-color: #d4ebff;}#sk-container-id-1 div.sk-parallel-item::after {content: \"\";width: 100%;border-bottom: 1px solid gray;flex-grow: 1;}#sk-container-id-1 div.sk-label:hover label.sk-toggleable__label {background-color: #d4ebff;}#sk-container-id-1 div.sk-serial::before {content: \"\";position: absolute;border-left: 1px solid gray;box-sizing: border-box;top: 0;bottom: 0;left: 50%;z-index: 0;}#sk-container-id-1 div.sk-serial {display: flex;flex-direction: column;align-items: center;background-color: white;padding-right: 0.2em;padding-left: 0.2em;position: relative;}#sk-container-id-1 div.sk-item {position: relative;z-index: 1;}#sk-container-id-1 div.sk-parallel {display: flex;align-items: stretch;justify-content: center;background-color: white;position: relative;}#sk-container-id-1 div.sk-item::before, #sk-container-id-1 div.sk-parallel-item::before {content: \"\";position: absolute;border-left: 1px solid gray;box-sizing: border-box;top: 0;bottom: 0;left: 50%;z-index: -1;}#sk-container-id-1 div.sk-parallel-item {display: flex;flex-direction: column;z-index: 1;position: relative;background-color: white;}#sk-container-id-1 div.sk-parallel-item:first-child::after {align-self: flex-end;width: 50%;}#sk-container-id-1 div.sk-parallel-item:last-child::after {align-self: flex-start;width: 50%;}#sk-container-id-1 div.sk-parallel-item:only-child::after {width: 0;}#sk-container-id-1 div.sk-dashed-wrapped {border: 1px dashed gray;margin: 0 0.4em 0.5em 0.4em;box-sizing: border-box;padding-bottom: 0.4em;background-color: white;}#sk-container-id-1 div.sk-label label {font-family: monospace;font-weight: bold;display: inline-block;line-height: 1.2em;}#sk-container-id-1 div.sk-label-container {text-align: center;}#sk-container-id-1 div.sk-container {/* jupyter's `normalize.less` sets `[hidden] { display: none; }` but bootstrap.min.css set `[hidden] { display: none !important; }` so we also need the `!important` here to be able to override the default hidden behavior on the sphinx rendered scikit-learn.org. See: https://github.com/scikit-learn/scikit-learn/issues/21755 */display: inline-block !important;position: relative;}#sk-container-id-1 div.sk-text-repr-fallback {display: none;}</style><div id=\"sk-container-id-1\" class=\"sk-top-container\"><div class=\"sk-text-repr-fallback\"><pre>SGDClassifier(random_state=42)</pre><b>In a Jupyter environment, please rerun this cell to show the HTML representation or trust the notebook. <br />On GitHub, the HTML representation is unable to render, please try loading this page with nbviewer.org.</b></div><div class=\"sk-container\" hidden><div class=\"sk-item\"><div class=\"sk-estimator sk-toggleable\"><input class=\"sk-toggleable__control sk-hidden--visually\" id=\"sk-estimator-id-1\" type=\"checkbox\" checked><label for=\"sk-estimator-id-1\" class=\"sk-toggleable__label sk-toggleable__label-arrow\">SGDClassifier</label><div class=\"sk-toggleable__content\"><pre>SGDClassifier(random_state=42)</pre></div></div></div></div></div>"
      ],
      "text/plain": [
       "SGDClassifier(random_state=42)"
      ]
     },
     "execution_count": 28,
     "metadata": {},
     "output_type": "execute_result"
    }
   ],
   "source": [
    "#Now let’s pick a classifier and train it. A good place to start \n",
    "#is with a stochastic gradient descent (SGD, or stochastic GD) \n",
    "#classifier, using Scikit- Learn’s SGDClassifier class. This \n",
    "#classifier is capable of handling very large datasets efficiently. \n",
    "#This is in part because SGD deals with training instances \n",
    "#independently, one at a time, which also makes SGD well suited \n",
    "#for online learning, as you will see later. Let’s create an \n",
    "#SGDClassifier and train it on the whole training set:\n",
    "\n",
    "\n",
    "\n",
    "from sklearn.linear_model import SGDClassifier\n",
    "\n",
    "sgd_clf = SGDClassifier(random_state=42)\n",
    "sgd_clf.fit(X_train, y_train_5)"
   ]
  },
  {
   "cell_type": "code",
   "execution_count": 29,
   "id": "c9a01d21",
   "metadata": {},
   "outputs": [
    {
     "data": {
      "text/plain": [
       "array([ True])"
      ]
     },
     "execution_count": 29,
     "metadata": {},
     "output_type": "execute_result"
    }
   ],
   "source": [
    "sgd_clf.predict([some_digit])"
   ]
  },
  {
   "cell_type": "code",
   "execution_count": 30,
   "id": "65e42afb",
   "metadata": {},
   "outputs": [
    {
     "data": {
      "text/plain": [
       "(784,)"
      ]
     },
     "execution_count": 30,
     "metadata": {},
     "output_type": "execute_result"
    }
   ],
   "source": [
    "some_digit.shape"
   ]
  },
  {
   "cell_type": "code",
   "execution_count": 31,
   "id": "e8841eff",
   "metadata": {},
   "outputs": [
    {
     "data": {
      "text/plain": [
       "array([0.95035, 0.96035, 0.9604 ])"
      ]
     },
     "execution_count": 31,
     "metadata": {},
     "output_type": "execute_result"
    }
   ],
   "source": [
    "#Performance Measures\n",
    "#Evaluating a classifier is often significantly trickier than \n",
    "#evaluating a regressor, so we will spend a large part of this \n",
    "#chapter on this topic. There are many performance measures available,\n",
    "#so grab another coffee and get ready to learn a bunch of new concepts \n",
    "#and acronyms!\n",
    "\n",
    "\n",
    "\n",
    "#Measuring Accuracy Using Cross-Validation\n",
    "#A good way to evaluate a model is to use cross-validation, just as \n",
    "#you did in Chapter 2. Let’s use the cross_val_score() function to \n",
    "#evaluate our SGDClassifier model, using k-fold cross-validation \n",
    "#with three folds. Remember that k-fold cross-validation means \n",
    "#splitting the training set into k folds (in this case, three), \n",
    "#then training the model k times, holding out a different fold each \n",
    "#time for evaluation (see Chapter 2):\n",
    "\n",
    "\n",
    "from sklearn.model_selection import cross_val_score\n",
    "\n",
    "cross_val_score(sgd_clf, X_train, y_train_5, cv=3,\n",
    "               scoring=\"accuracy\")\n"
   ]
  },
  {
   "cell_type": "code",
   "execution_count": 32,
   "id": "d37e2b25",
   "metadata": {},
   "outputs": [
    {
     "name": "stdout",
     "output_type": "stream",
     "text": [
      "False\n"
     ]
    }
   ],
   "source": [
    "#Wow! Above 95% accuracy (ratio of correct predictions) on all \n",
    "#cross- validation folds? This looks amazing, doesn’t it? Well, \n",
    "#before you get too excited, let’s look at a dummy classifier \n",
    "#that just classifies every single image in the most frequent class,\n",
    "#which in this case is the negative class (i.e., non 5):\n",
    "\n",
    "\n",
    "from sklearn.dummy import DummyClassifier\n",
    "\n",
    "dummy_clf = DummyClassifier()\n",
    "dummy_clf.fit(X_train, y_train_5)\n",
    "print(any(dummy_clf.predict(X_train)))\n",
    "\n"
   ]
  },
  {
   "cell_type": "code",
   "execution_count": 33,
   "id": "ed68fb25",
   "metadata": {},
   "outputs": [
    {
     "data": {
      "text/plain": [
       "array([0.90965, 0.90965, 0.90965])"
      ]
     },
     "execution_count": 33,
     "metadata": {},
     "output_type": "execute_result"
    }
   ],
   "source": [
    "cross_val_score(dummy_clf, X_train, y_train_5, cv=3, scoring='accuracy')"
   ]
  },
  {
   "cell_type": "code",
   "execution_count": 34,
   "id": "c855fadd",
   "metadata": {},
   "outputs": [
    {
     "name": "stdout",
     "output_type": "stream",
     "text": [
      "0.95035\n",
      "0.96035\n",
      "0.9604\n"
     ]
    }
   ],
   "source": [
    "#That’s right, it has over 90% accuracy! This is simply because only \n",
    "#about 10% of the images are 5s, so if you always guess that an image \n",
    "#is not a 5, you will be right about 90% of the time. Beats Nostradamus.\n",
    "\n",
    "#This demonstrates why accuracy is generally not the preferred \n",
    "#performance measure for classifiers, especially when you are \n",
    "#dealing with skewed datasets (i.e., when some classes are much\n",
    "#more frequent than others). A much better way to evaluate the \n",
    "#performance of a classifier is to look at the confusion matrix (CM).\n",
    "\n",
    "\n",
    "#IMPLEMENTING CROSS-VALIDATION\n",
    "#Occasionally you will need more control over the cross-validation \n",
    "#process than what Scikit-Learn provides off the shelf. In these \n",
    "#cases, you can implement cross-validation yourself. The following \n",
    "#code does roughly the same thing as Scikit-Learn’s cross_val_score()\n",
    "#function, and it prints the same result:\n",
    "\n",
    "from sklearn.model_selection import StratifiedKFold \n",
    "from sklearn.base import clone\n",
    "\n",
    "skfolds = StratifiedKFold(n_splits=3) #add shuffle=True if the dataset\n",
    "#is not already shuffled\n",
    "\n",
    "for train_index, test_index in skfolds.split(X_train, y_train_5): \n",
    "    clone_clf = clone(sgd_clf)\n",
    "    X_train_folds = X_train[train_index]\n",
    "    y_train_folds = y_train_5[train_index]\n",
    "    X_test_fold = X_train[test_index]\n",
    "    y_test_fold = y_train_5[test_index]\n",
    "    \n",
    "    clone_clf.fit(X_train_folds, y_train_folds)\n",
    "    y_pred = clone_clf.predict(X_test_fold)\n",
    "    n_correct = sum(y_pred == y_test_fold)\n",
    "    print(n_correct / len(y_pred)) # prints 0.95035, 0.96035, and 0.9604\n",
    "\n"
   ]
  },
  {
   "cell_type": "code",
   "execution_count": 35,
   "id": "8007e6c5",
   "metadata": {},
   "outputs": [
    {
     "data": {
      "text/plain": [
       "(60000,)"
      ]
     },
     "execution_count": 35,
     "metadata": {},
     "output_type": "execute_result"
    }
   ],
   "source": [
    "#o compute the confusion matrix, you first need to have a set of \n",
    "#predictions so that they can be compared to the actual targets. \n",
    "#You could make predictions on the test set, but it’s best to keep \n",
    "#that untouched for now (remember that you want to use the test set\n",
    "#only at the very end of your project, once you have a classifier \n",
    "#that you are ready to launch). Instead, you can use the \n",
    "#cross_val_predict() function:\n",
    "\n",
    "from sklearn.model_selection import cross_val_predict\n",
    "\n",
    "y_train_pred = cross_val_predict(sgd_clf, X_train, y_train_5, cv=3)\n",
    "y_train_pred.shape"
   ]
  },
  {
   "cell_type": "code",
   "execution_count": 36,
   "id": "da03cadb",
   "metadata": {},
   "outputs": [
    {
     "data": {
      "text/plain": [
       "array([[53892,   687],\n",
       "       [ 1891,  3530]])"
      ]
     },
     "execution_count": 36,
     "metadata": {},
     "output_type": "execute_result"
    }
   ],
   "source": [
    "#Just like the cross_val_score() function, cross_val_predict() \n",
    "#performs k-fold cross-validation, but instead of returning the \n",
    "#evaluation scores, it returns the predictions made on each test \n",
    "#fold. This means that you get a clean prediction for each instance \n",
    "#in the training set (by “clean” I mean “out-of-sample”: the model \n",
    "#makes predictions on data that it never saw during training).\n",
    "\n",
    "\n",
    "#my explanation: \n",
    "# classifier trained on 2 folds, then tested on test fold (a fold that\n",
    "#is a part of the training set but which the classifier hasn't seen \n",
    "#during training, so it is apt to be used as a test set for predictions,\n",
    "#which can then be compared to actual targets (in this case y_train_5))\n",
    "\n",
    "\n",
    "#Now you are ready to get the confusion matrix using the \n",
    "#confusion_matrix() function. Just pass it the target classes (y_train_5)\n",
    "#and the predicted classes (y_train_pred):\n",
    "\n",
    "from sklearn.metrics import confusion_matrix\n",
    "cm = confusion_matrix(y_train_5, y_train_pred)\n",
    "cm"
   ]
  },
  {
   "cell_type": "code",
   "execution_count": 37,
   "id": "7c26f3c8",
   "metadata": {},
   "outputs": [
    {
     "data": {
      "text/plain": [
       "array([[54579,     0],\n",
       "       [    0,  5421]])"
      ]
     },
     "execution_count": 37,
     "metadata": {},
     "output_type": "execute_result"
    }
   ],
   "source": [
    "#Each row in a confusion matrix represents an actual class, \n",
    "#while each column represents a predicted class. The first row of \n",
    "#this matrix considers non-5 images (the negative class): 53,892 of \n",
    "#them were correctly classified as non-5s (they are called true \n",
    "#negatives), while the remaining 687 were wrongly classified as 5s\n",
    "#(false positives, also called type I errors). The second row considers\n",
    "#the images of 5s (the positive class): 1,891 were wrongly classified\n",
    "#as non-5s (false negatives, also called type II errors), while the \n",
    "#remaining 3,530 were correctly classified as 5s (true positives). A\n",
    "#perfect classifier would only have true positives and true negatives, \n",
    "#so its confusion matrix would have nonzero values only on its main \n",
    "#diagonal (top left to bottom right):\n",
    "\n",
    "y_train_perfect_predictions = y_train_5\n",
    "confusion_matrix(y_train_5, y_train_perfect_predictions)\n",
    "\n"
   ]
  },
  {
   "cell_type": "code",
   "execution_count": 38,
   "id": "1802c8c7",
   "metadata": {},
   "outputs": [
    {
     "data": {
      "text/plain": [
       "0.8370879772350012"
      ]
     },
     "execution_count": 38,
     "metadata": {},
     "output_type": "execute_result"
    }
   ],
   "source": [
    "#The confusion matrix gives you a lot of information, but sometimes you\n",
    "#may prefer a more concise metric. An interesting one to look at is the\n",
    "#accuracy of the positive predictions; this is called the precision of the\n",
    "#classifier\n",
    "\n",
    "#TP is the number of true positives, and FP is the number of false \n",
    "#positives.\n",
    "#So, precision is typically used along with another metric named recall,\n",
    "#also called sensitivity or the true positive rate (TPR): this is \n",
    "#the ratio of positive instances that are correctly detected by the \n",
    "#classifier\n",
    "\n",
    "#Precision and Recall\n",
    "#Scikit-Learn provides several functions to compute classifier metrics, \n",
    "#including precision and recall:\n",
    "\n",
    "\n",
    "from sklearn.metrics import precision_score, recall_score\n",
    "\n",
    "precision_score(y_train_5, y_train_pred) # == 3530 / (687 + 3530)"
   ]
  },
  {
   "cell_type": "code",
   "execution_count": 39,
   "id": "9aaec421",
   "metadata": {},
   "outputs": [
    {
     "data": {
      "text/plain": [
       "0.6511713705958311"
      ]
     },
     "execution_count": 39,
     "metadata": {},
     "output_type": "execute_result"
    }
   ],
   "source": [
    "recall_score(y_train_5, y_train_pred) # == 3530 / (1891 + 3530)"
   ]
  },
  {
   "cell_type": "code",
   "execution_count": 40,
   "id": "95b63e45",
   "metadata": {},
   "outputs": [
    {
     "data": {
      "text/plain": [
       "0.7325171197343846"
      ]
     },
     "execution_count": 40,
     "metadata": {},
     "output_type": "execute_result"
    }
   ],
   "source": [
    "#Now our 5-detector does not look as shiny as it did when we looked \n",
    "#at its accuracy. When it claims an image represents a 5, it is correct\n",
    "#only 83.7% of the time. Moreover, it only detects 65.1% of the 5s.\n",
    "\n",
    "\n",
    "#again, ensitivity or the true positive rate (TPR): this is \n",
    "#the ratio of *positive instances* that are correctly detected by the \n",
    "#classifier. sensitivity = TP / TP + FN\n",
    "\n",
    "# precision is a ratio of positive predictions, tells you how accurate\n",
    "#classifier is when predicting true positive predictions.\n",
    "# precision = TP / TP + FP\n",
    "\n",
    "#It is often convenient to combine precision and recall into a single \n",
    "#metric called the F1 score, especially when you need a single metric \n",
    "#to compare two classifiers. The F1 score is the harmonic mean of \n",
    "#precision and recall (Equation 3-3). Whereas the regular mean treats \n",
    "#all values equally, the harmonic mean gives much more weight to \n",
    "#low values. As a result, the classifier will only get a high F1 \n",
    "#score if both recall and precision are high.\n",
    "\n",
    "from sklearn.metrics import f1_score\n",
    "f1_score(y_train_5, y_train_pred)"
   ]
  },
  {
   "cell_type": "code",
   "execution_count": 41,
   "id": "eb4e2947",
   "metadata": {},
   "outputs": [
    {
     "data": {
      "text/plain": [
       "array([2164.22030239])"
      ]
     },
     "execution_count": 41,
     "metadata": {},
     "output_type": "execute_result"
    }
   ],
   "source": [
    "#The F1 score favors classifiers that have similar precision and recall. \n",
    "#This is not always what you want: in some contexts you mostly care about\n",
    "#precision, and in other contexts you really care about recall. For \n",
    "#example, if you trained a classifier to detect videos that are safe \n",
    "#for kids, you would probably prefer a classifier that rejects many \n",
    "#good videos (low recall) but keeps only safe ones (high precision), \n",
    "#rather than a classifier that has a much higher recall but lets a \n",
    "#few really bad videos show up in your product.\n",
    "\n",
    "#explanation: it is more important to not have any bad videos in \n",
    "#the final product, than it is to not detect some safe videos. \n",
    "#here precision is more important than recall (sensitivity)\n",
    "\n",
    "\n",
    "#On the other hand, suppose you train a classifier to detect \n",
    "#shoplifters in surveillance images: it is probably fine if \n",
    "#your classifier only has 30% precision as long as it has 99% recall \n",
    "#(sure, the security guards will get a few false alerts, \n",
    "#but almost all shoplifters will get caught).\n",
    "\n",
    "\n",
    "#explanation: false positives (mistakenly thinking a regular customer\n",
    "# is a shoplifter) are not as important as false negatives (mistakenly\n",
    "#thinking that a shoplifter is a regular customer)\n",
    "\n",
    "\n",
    "#Unfortunately, you can’t have it both ways: increasing precision reduces\n",
    "#recall, and vice versa. This is called the precision/recall trade-off.\n",
    "\n",
    "#The Precision/Recall Trade-off\n",
    "#To understand this trade-off, let’s look at how the SGDClassifier \n",
    "#makes its classification decisions. For each instance, it computes a \n",
    "#score based on a decision function. If that score is greater than \n",
    "#a threshold, it assigns theinstance to the positive class; \n",
    "#otherwise it assigns it to the negative class. Figure 3-4 shows a \n",
    "#few digits positioned from the lowest score on the left to the \n",
    "#highest score on the right. Suppose the decision threshold is \n",
    "#positioned at the central arrow (between the two 5s): you will \n",
    "#find 4 true positives (actual 5s) on the right of that threshold, \n",
    "#and 1 false positive (actually a 6). Therefore, with that threshold, \n",
    "#the precision is 80% (4 out of 5). But out of 6 actual 5s, the \n",
    "#classifier only detects 4, so the recall is 67% (4 out of 6). \n",
    "#If you raise the threshold (move it to the arrow on the right), \n",
    "#the false positive (the 6) becomes a true negative, thereby \n",
    "#increasing the precision (up to 100% in this case), but one \n",
    "#true positive becomes a false negative, decreasing recall \n",
    "#down to 50%. Conversely, lowering the threshold increases \n",
    "#recall and reduces precision.\n",
    "\n",
    "\n",
    "#Scikit-Learn does not let you set the threshold directly, but it \n",
    "#does give you access to the decision scores that it uses to make \n",
    "#predictions. Instead of calling the classifier’s predict() method,\n",
    "#you can call its decision_function() method, which returns a score \n",
    "#for each instance, and then use any threshold you want to make \n",
    "#predictions based on those scores:\n",
    "\n",
    "\n",
    "y_scores = sgd_clf.decision_function([some_digit])\n",
    "y_scores\n"
   ]
  },
  {
   "cell_type": "code",
   "execution_count": 42,
   "id": "cead3357",
   "metadata": {},
   "outputs": [
    {
     "data": {
      "text/plain": [
       "array([ True])"
      ]
     },
     "execution_count": 42,
     "metadata": {},
     "output_type": "execute_result"
    }
   ],
   "source": [
    "threshold = 0\n",
    "y_some_digit_pred = (y_scores > threshold)\n",
    "y_some_digit_pred"
   ]
  },
  {
   "cell_type": "code",
   "execution_count": 43,
   "id": "23524c7c",
   "metadata": {},
   "outputs": [
    {
     "data": {
      "text/plain": [
       "array([False])"
      ]
     },
     "execution_count": 43,
     "metadata": {},
     "output_type": "execute_result"
    }
   ],
   "source": [
    "#The SGDClassifier uses a threshold equal to 0, so the preceding code \n",
    "#returns the same result as the predict() method (i.e., True). Let’s \n",
    "#raise the threshold:\n",
    "\n",
    "threshold = 3000\n",
    "y_some_digit_pred = (y_scores > threshold)\n",
    "y_some_digit_pred"
   ]
  },
  {
   "cell_type": "code",
   "execution_count": 44,
   "id": "750442d9",
   "metadata": {},
   "outputs": [
    {
     "data": {
      "text/plain": [
       "array([  1200.93051237, -26883.79202424, -33072.03475406, ...,\n",
       "        13272.12718981,  -7258.47203373, -16877.50840447])"
      ]
     },
     "execution_count": 44,
     "metadata": {},
     "output_type": "execute_result"
    }
   ],
   "source": [
    "#This confirms that raising the threshold decreases recall. The \n",
    "#image actually represents a 5, and the classifier detects it when \n",
    "#the threshold is 0, but it misses it when the threshold is increased \n",
    "#to 3,000.\n",
    "\n",
    "\n",
    "#How do you decide which threshold to use? First, use the \n",
    "#cross_val_predict() function to get the scores of all instances in \n",
    "#the training set, but this time specify that you want to return \n",
    "#decision scores instead of predictions:\n",
    "\n",
    "\n",
    "y_scores = cross_val_predict(sgd_clf, X_train, y_train_5, cv=3,\n",
    "                            method=\"decision_function\")\n",
    "y_scores"
   ]
  },
  {
   "cell_type": "code",
   "execution_count": 45,
   "id": "49587915",
   "metadata": {},
   "outputs": [],
   "source": [
    "#With these scores, use the precision_recall_curve() function to \n",
    "#compute precision and recall for all possible thresholds (the \n",
    "#function adds a last precision of 0 and a last recall of 1, \n",
    "#corresponding to an infinite threshold):\n",
    "\n",
    "\n",
    "from sklearn.metrics import precision_recall_curve\n",
    "\n",
    "precisions, recalls, thresholds = precision_recall_curve(y_train_5,\n",
    "                                                        y_scores)"
   ]
  },
  {
   "cell_type": "code",
   "execution_count": 46,
   "id": "c865d98c",
   "metadata": {},
   "outputs": [
    {
     "data": {
      "text/plain": [
       "array([ True, False, False, ...,  True, False, False])"
      ]
     },
     "execution_count": 46,
     "metadata": {},
     "output_type": "execute_result"
    }
   ],
   "source": [
    "y_train_5"
   ]
  },
  {
   "cell_type": "code",
   "execution_count": 47,
   "id": "2650d711",
   "metadata": {},
   "outputs": [
    {
     "data": {
      "text/plain": [
       "array([  1200.93051237, -26883.79202424, -33072.03475406, ...,\n",
       "        13272.12718981,  -7258.47203373, -16877.50840447])"
      ]
     },
     "execution_count": 47,
     "metadata": {},
     "output_type": "execute_result"
    }
   ],
   "source": [
    "y_scores"
   ]
  },
  {
   "cell_type": "code",
   "execution_count": 48,
   "id": "d86914b1",
   "metadata": {},
   "outputs": [
    {
     "data": {
      "image/png": "[encoded data removed]",
      "text/plain": [
       "<Figure size 640x480 with 1 Axes>"
      ]
     },
     "metadata": {},
     "output_type": "display_data"
    }
   ],
   "source": [
    "plt.plot(thresholds, precisions[:-1], \"b--\", label=\"Precision\", \n",
    "         linewidth=2)\n",
    "plt.plot(thresholds, recalls[:-1], \"g--\", label=\"Recall\",\n",
    "        linewidth=2)\n",
    "plt.vlines(threshold, 0, 1.0, \"k\", \"dotted\", label=\"threshold\")\n",
    "plt.grid(True)\n",
    "plt.show()"
   ]
  },
  {
   "cell_type": "code",
   "execution_count": 49,
   "id": "9c197929",
   "metadata": {},
   "outputs": [
    {
     "data": {
      "text/plain": [
       "array([0.09035   , 0.09035151, 0.09035301, ..., 1.        , 1.        ,\n",
       "       1.        ])"
      ]
     },
     "execution_count": 49,
     "metadata": {},
     "output_type": "execute_result"
    }
   ],
   "source": [
    "precisions[:-1] #keep everything but the last element"
   ]
  },
  {
   "cell_type": "code",
   "execution_count": 50,
   "id": "4e9123f2",
   "metadata": {},
   "outputs": [
    {
     "data": {
      "text/plain": [
       "(60000,)"
      ]
     },
     "execution_count": 50,
     "metadata": {},
     "output_type": "execute_result"
    }
   ],
   "source": [
    "precisions[:-1].shape"
   ]
  },
  {
   "cell_type": "code",
   "execution_count": 51,
   "id": "d631d635",
   "metadata": {},
   "outputs": [
    {
     "data": {
      "text/plain": [
       "array([1.00000000e+00, 1.00000000e+00, 1.00000000e+00, ...,\n",
       "       5.53403431e-04, 3.68935621e-04, 1.84467810e-04])"
      ]
     },
     "execution_count": 51,
     "metadata": {},
     "output_type": "execute_result"
    }
   ],
   "source": [
    "recalls[:-1] #keep everything but the last element"
   ]
  },
  {
   "cell_type": "code",
   "execution_count": 52,
   "id": "37b11691",
   "metadata": {},
   "outputs": [
    {
     "data": {
      "text/plain": [
       "(60000,)"
      ]
     },
     "execution_count": 52,
     "metadata": {},
     "output_type": "execute_result"
    }
   ],
   "source": [
    "thresholds.shape"
   ]
  },
  {
   "cell_type": "code",
   "execution_count": 53,
   "id": "a4192898",
   "metadata": {},
   "outputs": [
    {
     "data": {
      "text/plain": [
       "(60000,)"
      ]
     },
     "execution_count": 53,
     "metadata": {},
     "output_type": "execute_result"
    }
   ],
   "source": [
    "recalls[:-1].shape"
   ]
  },
  {
   "cell_type": "code",
   "execution_count": 54,
   "id": "aa907e58",
   "metadata": {},
   "outputs": [
    {
     "data": {
      "text/plain": [
       "array([0.09035   , 0.09035151, 0.09035301, ..., 1.        , 1.        ,\n",
       "       1.        ])"
      ]
     },
     "execution_count": 54,
     "metadata": {},
     "output_type": "execute_result"
    }
   ],
   "source": [
    "precisions"
   ]
  },
  {
   "cell_type": "code",
   "execution_count": 55,
   "id": "f25f8e9f",
   "metadata": {},
   "outputs": [
    {
     "data": {
      "text/plain": [
       "3000"
      ]
     },
     "execution_count": 55,
     "metadata": {},
     "output_type": "execute_result"
    }
   ],
   "source": [
    "threshold"
   ]
  },
  {
   "cell_type": "code",
   "execution_count": 56,
   "id": "575aa842",
   "metadata": {},
   "outputs": [
    {
     "data": {
      "image/png": "[encoded data removed]",
      "text/plain": [
       "<Figure size 640x480 with 1 Axes>"
      ]
     },
     "metadata": {},
     "output_type": "display_data"
    }
   ],
   "source": [
    "#NOTE\n",
    "\n",
    "#You may wonder why the precision curve is bumpier than the recall curve \n",
    "#in Figure 3-5. The reason is that precision may sometimes go down when \n",
    "#you raise the threshold (although in general it will go up). To \n",
    "#understand why, look back at Figure 3-4 and notice what happens \n",
    "#when you start from the central threshold and move it just one \n",
    "#digit to the right: precision goes from 4/5 (80%) down to 3/4 (75%). \n",
    "#On the other hand, recall can only go down when the threshold is \n",
    "#increased, which explains why its curve looks smooth.\n",
    "\n",
    "#At this threshold value (3000), precision is near 90% and recall is \n",
    "#around 50%. \n",
    "\n",
    "#Another way to select a good precision/recall trade-off \n",
    "#is to plot precision directly against recall, as shown in Figure \n",
    "#3-6 (the same threshold is shown):\n",
    "    \n",
    "plt.plot(recalls, precisions, linewidth=2, label=\"Precision/Recall curve\")\n",
    "plt.grid(True)\n",
    "plt.xlabel(\"Recall\")\n",
    "plt.ylabel(\"Precision\")\n",
    "plt.show()\n",
    "    \n",
    "    "
   ]
  },
  {
   "cell_type": "code",
   "execution_count": 57,
   "id": "b22801f7",
   "metadata": {},
   "outputs": [
    {
     "data": {
      "text/plain": [
       "57109"
      ]
     },
     "execution_count": 57,
     "metadata": {},
     "output_type": "execute_result"
    }
   ],
   "source": [
    "#You can see that precision really starts to fall sharply at around \n",
    "#80% recall. You will probably want to select a precision/recall \n",
    "#trade-off just before that drop—for example, at around 60% recall. \n",
    "#But of course, the choice depends on your project.\n",
    "\n",
    "\n",
    "#Suppose you decide to aim for 90% precision. You could use the \n",
    "#first plot to find the threshold you need to use, but that’s not \n",
    "#very precise. Alternatively, you can search for the lowest \n",
    "#threshold that gives you at least 90% precision. For this, \n",
    "#you can use the NumPy array’s argmax() method. This returns \n",
    "#the first index of the maximum value, which in this case means \n",
    "#the first True value:\n",
    "\n",
    "idx_for_90_precision = (precisions >= 0.90).argmax()\n",
    "idx_for_90_precision"
   ]
  },
  {
   "cell_type": "code",
   "execution_count": 58,
   "id": "9d4b8cca",
   "metadata": {},
   "outputs": [
    {
     "data": {
      "text/plain": [
       "3370.019499144183"
      ]
     },
     "execution_count": 58,
     "metadata": {},
     "output_type": "execute_result"
    }
   ],
   "source": [
    "threshold_for_90_precision = thresholds[idx_for_90_precision]\n",
    "threshold_for_90_precision"
   ]
  },
  {
   "cell_type": "code",
   "execution_count": 59,
   "id": "7180b98b",
   "metadata": {},
   "outputs": [
    {
     "data": {
      "text/plain": [
       "array([0.09035   , 0.09035151, 0.09035301, ..., 1.        , 1.        ,\n",
       "       1.        ])"
      ]
     },
     "execution_count": 59,
     "metadata": {},
     "output_type": "execute_result"
    }
   ],
   "source": [
    "precisions"
   ]
  },
  {
   "cell_type": "code",
   "execution_count": 60,
   "id": "a40829e7",
   "metadata": {},
   "outputs": [
    {
     "data": {
      "text/plain": [
       "array([False, False, False, ...,  True, False, False])"
      ]
     },
     "execution_count": 60,
     "metadata": {},
     "output_type": "execute_result"
    }
   ],
   "source": [
    "#To make predictions (on the training set for now), instead of calling\n",
    "#the classifier’s predict() method, you can run this code:\n",
    "\n",
    "#this now compares scores obtained via decision function against new threshold\n",
    "y_train_pred_90 = (y_scores >= threshold_for_90_precision)\n",
    "y_train_pred_90"
   ]
  },
  {
   "cell_type": "code",
   "execution_count": 61,
   "id": "a0eabe86",
   "metadata": {},
   "outputs": [
    {
     "data": {
      "text/plain": [
       "array([  1200.93051237, -26883.79202424, -33072.03475406, ...,\n",
       "        13272.12718981,  -7258.47203373, -16877.50840447])"
      ]
     },
     "execution_count": 61,
     "metadata": {},
     "output_type": "execute_result"
    }
   ],
   "source": [
    "y_scores"
   ]
  },
  {
   "cell_type": "code",
   "execution_count": 62,
   "id": "fcdf62a9",
   "metadata": {},
   "outputs": [
    {
     "data": {
      "text/plain": [
       "0.9000345901072293"
      ]
     },
     "execution_count": 62,
     "metadata": {},
     "output_type": "execute_result"
    }
   ],
   "source": [
    "#Let’s check these predictions’ precision and recall:\n",
    "\n",
    "precision_score(y_train_5, y_train_pred_90)"
   ]
  },
  {
   "cell_type": "code",
   "execution_count": 63,
   "id": "1014522b",
   "metadata": {},
   "outputs": [
    {
     "data": {
      "text/plain": [
       "0.4799852425751706"
      ]
     },
     "execution_count": 63,
     "metadata": {},
     "output_type": "execute_result"
    }
   ],
   "source": [
    "recall_at_90_precision = recall_score(y_train_5, y_train_pred_90)\n",
    "recall_at_90_precision"
   ]
  },
  {
   "cell_type": "code",
   "execution_count": 64,
   "id": "4a13e7e8",
   "metadata": {},
   "outputs": [],
   "source": [
    "#Great, you have a 90% precision classifier! As you can see, it is \n",
    "#fairly easy to create a classifier with virtually any precision you \n",
    "#want: just set a high enough threshold, and you’re done. But wait, \n",
    "#not so fast–a high-precision classifier is not very useful if \n",
    "#its recall is too low! For many applications, 48% recall wouldn’t \n",
    "#be great at all.\n",
    "\n",
    "\n",
    "#If someone says, “Let’s reach 99% precision”, you \n",
    "#should ask, “At what recall?”\n",
    "\n",
    "#The ROC Curve\n",
    "#The receiver operating characteristic (ROC) curve is another common \n",
    "#tool used with binary classifiers. It is very similar to the \n",
    "#precision/recall curve, but instead of plotting precision versus \n",
    "#recall, the ROC curve plots the true positive rate (another name \n",
    "#for recall) against the false positive rate (FPR). The FPR \n",
    "#(also called the fall-out) is the ratio of negative instances that \n",
    "#are incorrectly classified as positive. It is equal to 1 – the true \n",
    "#negative rate (TNR), which is the ratio of negative instances that \n",
    "#are correctly classified as negative. The TNR is also called specificity.\n",
    "#Hence, the ROC curve plots sensitivity (recall) versus 1 – specificity.\n",
    "#To plot the ROC curve, you first use the roc_curve() function to \n",
    "#compute the TPR and FPR for various threshold values:\n",
    "\n",
    "\n",
    "from sklearn.metrics import roc_curve\n",
    "\n",
    "fpr, tpr, thresholds = roc_curve(y_train_5, y_scores)"
   ]
  },
  {
   "cell_type": "code",
   "execution_count": 65,
   "id": "0ac617d6",
   "metadata": {},
   "outputs": [
    {
     "data": {
      "text/plain": [
       "520"
      ]
     },
     "execution_count": 65,
     "metadata": {},
     "output_type": "execute_result"
    }
   ],
   "source": [
    "#Then you can plot the FPR against the TPR using Matplotlib. \n",
    "#The following code produces the plot in Figure 3-7. To find the point \n",
    "#that corresponds to 90% precision, we need to look for the index of \n",
    "#the desired threshold. Since thresholds are listed in decreasing order \n",
    "#in this case, we use <= instead of >= on the first line:\n",
    "\n",
    "\n",
    "idx_for_threshold_at_90 = (thresholds <= threshold_for_90_precision).argmax()\n",
    "idx_for_threshold_at_90"
   ]
  },
  {
   "cell_type": "code",
   "execution_count": 66,
   "id": "841ac997",
   "metadata": {},
   "outputs": [
    {
     "data": {
      "text/plain": [
       "array([False, False, False, ...,  True,  True,  True])"
      ]
     },
     "execution_count": 66,
     "metadata": {},
     "output_type": "execute_result"
    }
   ],
   "source": [
    "(thresholds <= threshold_for_90_precision)"
   ]
  },
  {
   "cell_type": "code",
   "execution_count": 67,
   "id": "d5a5a745",
   "metadata": {},
   "outputs": [
    {
     "data": {
      "text/plain": [
       "array([  49442.43765905,   49441.43765905,   36801.60697028, ...,\n",
       "       -105763.22240074, -106527.45300471, -146348.56726174])"
      ]
     },
     "execution_count": 67,
     "metadata": {},
     "output_type": "execute_result"
    }
   ],
   "source": [
    "thresholds"
   ]
  },
  {
   "cell_type": "code",
   "execution_count": 68,
   "id": "e5538d46",
   "metadata": {},
   "outputs": [
    {
     "data": {
      "text/plain": [
       "3370.019499144183"
      ]
     },
     "execution_count": 68,
     "metadata": {},
     "output_type": "execute_result"
    }
   ],
   "source": [
    "threshold_for_90_precision"
   ]
  },
  {
   "cell_type": "code",
   "execution_count": 69,
   "id": "ab63dae9",
   "metadata": {},
   "outputs": [
    {
     "data": {
      "text/plain": [
       "(3908,)"
      ]
     },
     "execution_count": 69,
     "metadata": {},
     "output_type": "execute_result"
    }
   ],
   "source": [
    "fpr.shape"
   ]
  },
  {
   "cell_type": "code",
   "execution_count": 70,
   "id": "a64fd166",
   "metadata": {},
   "outputs": [
    {
     "data": {
      "text/plain": [
       "(3908,)"
      ]
     },
     "execution_count": 70,
     "metadata": {},
     "output_type": "execute_result"
    }
   ],
   "source": [
    "tpr.shape"
   ]
  },
  {
   "cell_type": "code",
   "execution_count": 71,
   "id": "f2a9b8c2",
   "metadata": {},
   "outputs": [
    {
     "data": {
      "text/plain": [
       "array([0.00000000e+00, 1.84467810e-04, 9.22339052e-04, ...,\n",
       "       9.99815532e-01, 1.00000000e+00, 1.00000000e+00])"
      ]
     },
     "execution_count": 71,
     "metadata": {},
     "output_type": "execute_result"
    }
   ],
   "source": [
    "tpr"
   ]
  },
  {
   "cell_type": "code",
   "execution_count": 72,
   "id": "ddd9f41c",
   "metadata": {},
   "outputs": [
    {
     "data": {
      "text/plain": [
       "array([0.        , 0.        , 0.        , ..., 0.99937705, 0.99937705,\n",
       "       1.        ])"
      ]
     },
     "execution_count": 72,
     "metadata": {},
     "output_type": "execute_result"
    }
   ],
   "source": [
    "fpr"
   ]
  },
  {
   "cell_type": "code",
   "execution_count": 73,
   "id": "ad1b2dab",
   "metadata": {},
   "outputs": [
    {
     "data": {
      "text/plain": [
       "(0.4799852425751706, 0.005295076861063779)"
      ]
     },
     "execution_count": 73,
     "metadata": {},
     "output_type": "execute_result"
    }
   ],
   "source": [
    "tpr_90, fpr_90 = tpr[idx_for_threshold_at_90], fpr[idx_for_threshold_at_90]\n",
    "\n",
    "\n",
    "tpr_90, fpr_90"
   ]
  },
  {
   "cell_type": "code",
   "execution_count": 74,
   "id": "dc56989f",
   "metadata": {},
   "outputs": [
    {
     "data": {
      "image/png": "[encoded data removed]",
      "text/plain": [
       "<Figure size 640x480 with 1 Axes>"
      ]
     },
     "metadata": {},
     "output_type": "display_data"
    }
   ],
   "source": [
    "plt.plot(fpr, tpr, linewidth=2, label=\"ROC curve\")\n",
    "plt.plot([0,1], [0,1], 'k:', label=\"Random classifier's ROC curve\")\n",
    "plt.plot([fpr_90], [tpr_90], \"ko\", label=\"Threshold for 90% precision\")\n",
    "plt.legend()\n",
    "plt.xlabel('False Positive Rate (Fall-Out)')\n",
    "plt.ylabel('True Positive Rate (Recall)')\n",
    "plt.grid(True)\n",
    "plt.show()"
   ]
  },
  {
   "cell_type": "code",
   "execution_count": 75,
   "id": "621213c2",
   "metadata": {},
   "outputs": [
    {
     "data": {
      "text/plain": [
       "0.9604938554008616"
      ]
     },
     "execution_count": 75,
     "metadata": {},
     "output_type": "execute_result"
    }
   ],
   "source": [
    "#Once again there is a trade-off: the higher the recall (TPR), the more\n",
    "#false positives (FPR) the classifier produces. The dotted line \n",
    "#represents the ROC curve of a purely random classifier; a good \n",
    "#classifier stays as far away from that line as possible (toward \n",
    "#the top-left corner).\n",
    "\n",
    "#One way to compare classifiers is to measure the area under the \n",
    "#curve (AUC). A perfect classifier will have a ROC AUC equal to 1,\n",
    "#whereas a purely random classifier will have a ROC AUC equal to 0.5.\n",
    "#Scikit-Learn provides a function to estimate the ROC AUC:\n",
    "    \n",
    "\n",
    "from sklearn.metrics import roc_auc_score\n",
    "\n",
    "roc_auc_score(y_train_5, y_scores)\n",
    "    \n",
    "    "
   ]
  },
  {
   "cell_type": "code",
   "execution_count": 76,
   "id": "97a7cd21",
   "metadata": {},
   "outputs": [
    {
     "data": {
      "text/plain": [
       "array([  1200.93051237, -26883.79202424, -33072.03475406, ...,\n",
       "        13272.12718981,  -7258.47203373, -16877.50840447])"
      ]
     },
     "execution_count": 76,
     "metadata": {},
     "output_type": "execute_result"
    }
   ],
   "source": [
    "y_scores"
   ]
  },
  {
   "cell_type": "code",
   "execution_count": 77,
   "id": "26ede65e",
   "metadata": {},
   "outputs": [
    {
     "data": {
      "text/plain": [
       "array([ True, False, False, ...,  True, False, False])"
      ]
     },
     "execution_count": 77,
     "metadata": {},
     "output_type": "execute_result"
    }
   ],
   "source": [
    "y_train_5"
   ]
  },
  {
   "cell_type": "code",
   "execution_count": 78,
   "id": "607d703e",
   "metadata": {},
   "outputs": [],
   "source": [
    "#Since the ROC curve is so similar to the precision/recall (PR) curve,\n",
    "#you may wonder how to decide which one to use. As a rule of thumb, you\n",
    "#should prefer the PR curve whenever the positive class is rare or when\n",
    "#you care more about the false positives than the false negatives. \n",
    "#Otherwise, use the ROC curve. For example, looking at the previous \n",
    "#ROC curve (and the ROC AUC score), you may think that the classifier \n",
    "#is really good. But this is mostly because there are few positives \n",
    "#(5s) compared to the negatives (non- 5s). In contrast, the PR curve \n",
    "#makes it clear that the classifier has room for improvement: the\n",
    "#curve could really be closer to the top-right corner \n",
    "\n",
    "#Let’s now create a RandomForestClassifier, whose PR curve and F1 \n",
    "#score we can compare to those of the SGDClassifier:\n",
    "\n",
    "from sklearn.ensemble import RandomForestClassifier\n",
    "\n",
    "forest_clf = RandomForestClassifier(random_state=42)\n"
   ]
  },
  {
   "cell_type": "code",
   "execution_count": 79,
   "id": "669caade",
   "metadata": {},
   "outputs": [
    {
     "data": {
      "text/plain": [
       "array([[0.11, 0.89],\n",
       "       [0.98, 0.02]])"
      ]
     },
     "execution_count": 79,
     "metadata": {},
     "output_type": "execute_result"
    }
   ],
   "source": [
    "#The precision_recall_curve() function expects labels and scores for\n",
    "#each instance, so we need to train the random forest classifier and \n",
    "#make it assign a score to each instance. But the RandomForestClassifier\n",
    "#class does not have a decision_function() method, due to the way it\n",
    "#works (we will cover this in Chapter 7). Luckily, it has a \n",
    "#predict_proba() method that returns class probabilities for each \n",
    "#instance, and we can just use the probability of the positive class \n",
    "#as a score, so it will work fine.4 We can call the cross_val_predict() \n",
    "#function to train the RandomForestClassifier using cross-validation and\n",
    "#make it predict class probabilities for every image as follows:\n",
    "\n",
    "\n",
    "y_probas_forest = cross_val_predict(forest_clf, X_train, y_train_5, cv=3, \n",
    "                                    method=\"predict_proba\")\n",
    "\n",
    "#Let’s look at the class probabilities for the first two \n",
    "#images in the training set:\n",
    "\n",
    "y_probas_forest[:2]"
   ]
  },
  {
   "cell_type": "code",
   "execution_count": 80,
   "id": "c2bc37ee",
   "metadata": {},
   "outputs": [],
   "source": [
    "#The model predicts that the first image is positive with 89% \n",
    "#probability, and it predicts that the second image is negative \n",
    "#with 99% probability. Since each image is either positive or \n",
    "#negative, the probabilities in each row add up to 100%.\n",
    "\n",
    "#These are estimated probabilities, not actual probabilities. For \n",
    "#example, if you look at all the images that the model classified \n",
    "#as positive with an estimated probability between 50% and 60%, \n",
    "#roughly 94% of them are actually positive. So, the model’s estimated \n",
    "#probabilities were much too low in this case—but models can be \n",
    "#overconfident as well. The sklearn.calibration package contains \n",
    "#tools to calibrate the estimated probabilities and make them much \n",
    "#closer to actual probabilities. See the extra material section in \n",
    "#this chapter’s notebook for more details."
   ]
  },
  {
   "cell_type": "code",
   "execution_count": 81,
   "id": "9a342317",
   "metadata": {},
   "outputs": [
    {
     "data": {
      "text/plain": [
       "array([[0.11, 0.89],\n",
       "       [0.98, 0.02],\n",
       "       [0.96, 0.04],\n",
       "       [1.  , 0.  ]])"
      ]
     },
     "execution_count": 81,
     "metadata": {},
     "output_type": "execute_result"
    }
   ],
   "source": [
    "y_probas_forest[:4]"
   ]
  },
  {
   "cell_type": "code",
   "execution_count": 82,
   "id": "0130f60b",
   "metadata": {},
   "outputs": [],
   "source": [
    "#The second column contains the estimated probabilities for the \n",
    "#positive class, so let’s pass them to the precision_recall_curve() \n",
    "#function:\n",
    "y_scores_forest = y_probas_forest[:, 1]\n",
    "precisions_forest, recalls_forest, thresholds_forest = precision_recall_curve(y_train_5,\n",
    "                                                                             y_scores_forest)\n",
    "#Now we’re ready to plot the PR curve. It is useful to plot the first \n",
    "#PR curve as well to see how they compare (Figure 3-8):"
   ]
  },
  {
   "cell_type": "code",
   "execution_count": 83,
   "id": "71ae3d96",
   "metadata": {},
   "outputs": [
    {
     "data": {
      "image/png": "[encoded data removed]",
      "text/plain": [
       "<Figure size 640x480 with 1 Axes>"
      ]
     },
     "metadata": {},
     "output_type": "display_data"
    }
   ],
   "source": [
    "plt.plot(recalls_forest, precisions_forest, \"b-\", \n",
    "        linewidth=2, label=\"Random Forest\")\n",
    "plt.plot(recalls, precisions, \"--\", linewidth=2, label=\"SGD\")\n",
    "plt.grid(True)\n",
    "plt.xlabel(\"Recall\")\n",
    "plt.ylabel(\"Precision\")\n",
    "plt.show()"
   ]
  },
  {
   "cell_type": "code",
   "execution_count": 84,
   "id": "da0cdf64",
   "metadata": {},
   "outputs": [
    {
     "data": {
      "text/plain": [
       "array([ True, False, False, ...,  True, False, False])"
      ]
     },
     "execution_count": 84,
     "metadata": {},
     "output_type": "execute_result"
    }
   ],
   "source": [
    "#As you can see in Figure 3-8, the RandomForestClassifier’s PR curve \n",
    "#looks much better than the SGDClassifier’s: it comes much closer to \n",
    "#the top-right corner. Its F1 score and ROC AUC score are also \n",
    "#significantly better:\n",
    "\n",
    "\n",
    "\n",
    "y_train_pred_forest = y_probas_forest[:, 1] >= 0.5\n",
    "y_train_pred_forest\n"
   ]
  },
  {
   "cell_type": "code",
   "execution_count": 85,
   "id": "3767f4bd",
   "metadata": {},
   "outputs": [
    {
     "data": {
      "text/plain": [
       "0.9270445185330457"
      ]
     },
     "execution_count": 85,
     "metadata": {},
     "output_type": "execute_result"
    }
   ],
   "source": [
    "f1_score(y_train_5, y_train_pred_forest)"
   ]
  },
  {
   "cell_type": "code",
   "execution_count": 86,
   "id": "7ddcbd77",
   "metadata": {},
   "outputs": [
    {
     "data": {
      "text/plain": [
       "array([ True, False, False, ...,  True, False, False])"
      ]
     },
     "execution_count": 86,
     "metadata": {},
     "output_type": "execute_result"
    }
   ],
   "source": [
    "y_train_5"
   ]
  },
  {
   "cell_type": "code",
   "execution_count": 87,
   "id": "ceebc4e9",
   "metadata": {},
   "outputs": [
    {
     "data": {
      "text/plain": [
       "array([ True, False, False, ...,  True, False, False])"
      ]
     },
     "execution_count": 87,
     "metadata": {},
     "output_type": "execute_result"
    }
   ],
   "source": [
    "y_train_pred_forest"
   ]
  },
  {
   "cell_type": "code",
   "execution_count": 88,
   "id": "bcf8e276",
   "metadata": {},
   "outputs": [
    {
     "data": {
      "text/plain": [
       "0.9983296721818179"
      ]
     },
     "execution_count": 88,
     "metadata": {},
     "output_type": "execute_result"
    }
   ],
   "source": [
    "roc_auc_score(y_train_5, y_scores_forest) #needs raw scores that determine\n",
    "# what class for each instance. in this case raw scores are probabilities"
   ]
  },
  {
   "cell_type": "code",
   "execution_count": 89,
   "id": "f164f0ba",
   "metadata": {},
   "outputs": [
    {
     "data": {
      "text/plain": [
       "0.9895331798199707"
      ]
     },
     "execution_count": 89,
     "metadata": {},
     "output_type": "execute_result"
    }
   ],
   "source": [
    "precision_score(y_train_5, y_train_pred_forest) #needs class labels"
   ]
  },
  {
   "cell_type": "code",
   "execution_count": 90,
   "id": "3ec61c0c",
   "metadata": {},
   "outputs": [
    {
     "data": {
      "text/plain": [
       "0.8719793396052389"
      ]
     },
     "execution_count": 90,
     "metadata": {},
     "output_type": "execute_result"
    }
   ],
   "source": [
    "recall_score(y_train_5, y_train_pred_forest)"
   ]
  },
  {
   "cell_type": "code",
   "execution_count": 91,
   "id": "b560be56",
   "metadata": {},
   "outputs": [
    {
     "data": {
      "text/plain": [
       "array([ True, False, False, ...,  True, False, False])"
      ]
     },
     "execution_count": 91,
     "metadata": {},
     "output_type": "execute_result"
    }
   ],
   "source": [
    "y_train_pred_forest"
   ]
  },
  {
   "cell_type": "code",
   "execution_count": 92,
   "id": "779bc9c8",
   "metadata": {},
   "outputs": [
    {
     "data": {
      "text/plain": [
       "array([0.89, 0.02, 0.04, ..., 0.98, 0.08, 0.07])"
      ]
     },
     "execution_count": 92,
     "metadata": {},
     "output_type": "execute_result"
    }
   ],
   "source": [
    "y_scores_forest"
   ]
  },
  {
   "cell_type": "code",
   "execution_count": 93,
   "id": "126a9a5d",
   "metadata": {},
   "outputs": [
    {
     "data": {
      "text/html": [
       "<style>#sk-container-id-2 {color: black;background-color: white;}#sk-container-id-2 pre{padding: 0;}#sk-container-id-2 div.sk-toggleable {background-color: white;}#sk-container-id-2 label.sk-toggleable__label {cursor: pointer;display: block;width: 100%;margin-bottom: 0;padding: 0.3em;box-sizing: border-box;text-align: center;}#sk-container-id-2 label.sk-toggleable__label-arrow:before {content: \"▸\";float: left;margin-right: 0.25em;color: #696969;}#sk-container-id-2 label.sk-toggleable__label-arrow:hover:before {color: black;}#sk-container-id-2 div.sk-estimator:hover label.sk-toggleable__label-arrow:before {color: black;}#sk-container-id-2 div.sk-toggleable__content {max-height: 0;max-width: 0;overflow: hidden;text-align: left;background-color: #f0f8ff;}#sk-container-id-2 div.sk-toggleable__content pre {margin: 0.2em;color: black;border-radius: 0.25em;background-color: #f0f8ff;}#sk-container-id-2 input.sk-toggleable__control:checked~div.sk-toggleable__content {max-height: 200px;max-width: 100%;overflow: auto;}#sk-container-id-2 input.sk-toggleable__control:checked~label.sk-toggleable__label-arrow:before {content: \"▾\";}#sk-container-id-2 div.sk-estimator input.sk-toggleable__control:checked~label.sk-toggleable__label {background-color: #d4ebff;}#sk-container-id-2 div.sk-label input.sk-toggleable__control:checked~label.sk-toggleable__label {background-color: #d4ebff;}#sk-container-id-2 input.sk-hidden--visually {border: 0;clip: rect(1px 1px 1px 1px);clip: rect(1px, 1px, 1px, 1px);height: 1px;margin: -1px;overflow: hidden;padding: 0;position: absolute;width: 1px;}#sk-container-id-2 div.sk-estimator {font-family: monospace;background-color: #f0f8ff;border: 1px dotted black;border-radius: 0.25em;box-sizing: border-box;margin-bottom: 0.5em;}#sk-container-id-2 div.sk-estimator:hover {background-color: #d4ebff;}#sk-container-id-2 div.sk-parallel-item::after {content: \"\";width: 100%;border-bottom: 1px solid gray;flex-grow: 1;}#sk-container-id-2 div.sk-label:hover label.sk-toggleable__label {background-color: #d4ebff;}#sk-container-id-2 div.sk-serial::before {content: \"\";position: absolute;border-left: 1px solid gray;box-sizing: border-box;top: 0;bottom: 0;left: 50%;z-index: 0;}#sk-container-id-2 div.sk-serial {display: flex;flex-direction: column;align-items: center;background-color: white;padding-right: 0.2em;padding-left: 0.2em;position: relative;}#sk-container-id-2 div.sk-item {position: relative;z-index: 1;}#sk-container-id-2 div.sk-parallel {display: flex;align-items: stretch;justify-content: center;background-color: white;position: relative;}#sk-container-id-2 div.sk-item::before, #sk-container-id-2 div.sk-parallel-item::before {content: \"\";position: absolute;border-left: 1px solid gray;box-sizing: border-box;top: 0;bottom: 0;left: 50%;z-index: -1;}#sk-container-id-2 div.sk-parallel-item {display: flex;flex-direction: column;z-index: 1;position: relative;background-color: white;}#sk-container-id-2 div.sk-parallel-item:first-child::after {align-self: flex-end;width: 50%;}#sk-container-id-2 div.sk-parallel-item:last-child::after {align-self: flex-start;width: 50%;}#sk-container-id-2 div.sk-parallel-item:only-child::after {width: 0;}#sk-container-id-2 div.sk-dashed-wrapped {border: 1px dashed gray;margin: 0 0.4em 0.5em 0.4em;box-sizing: border-box;padding-bottom: 0.4em;background-color: white;}#sk-container-id-2 div.sk-label label {font-family: monospace;font-weight: bold;display: inline-block;line-height: 1.2em;}#sk-container-id-2 div.sk-label-container {text-align: center;}#sk-container-id-2 div.sk-container {/* jupyter's `normalize.less` sets `[hidden] { display: none; }` but bootstrap.min.css set `[hidden] { display: none !important; }` so we also need the `!important` here to be able to override the default hidden behavior on the sphinx rendered scikit-learn.org. See: https://github.com/scikit-learn/scikit-learn/issues/21755 */display: inline-block !important;position: relative;}#sk-container-id-2 div.sk-text-repr-fallback {display: none;}</style><div id=\"sk-container-id-2\" class=\"sk-top-container\"><div class=\"sk-text-repr-fallback\"><pre>OneVsOneClassifier(estimator=SVC(random_state=42))</pre><b>In a Jupyter environment, please rerun this cell to show the HTML representation or trust the notebook. <br />On GitHub, the HTML representation is unable to render, please try loading this page with nbviewer.org.</b></div><div class=\"sk-container\" hidden><div class=\"sk-item sk-dashed-wrapped\"><div class=\"sk-label-container\"><div class=\"sk-label sk-toggleable\"><input class=\"sk-toggleable__control sk-hidden--visually\" id=\"sk-estimator-id-2\" type=\"checkbox\" ><label for=\"sk-estimator-id-2\" class=\"sk-toggleable__label sk-toggleable__label-arrow\">OneVsOneClassifier</label><div class=\"sk-toggleable__content\"><pre>OneVsOneClassifier(estimator=SVC(random_state=42))</pre></div></div></div><div class=\"sk-parallel\"><div class=\"sk-parallel-item\"><div class=\"sk-item\"><div class=\"sk-label-container\"><div class=\"sk-label sk-toggleable\"><input class=\"sk-toggleable__control sk-hidden--visually\" id=\"sk-estimator-id-3\" type=\"checkbox\" ><label for=\"sk-estimator-id-3\" class=\"sk-toggleable__label sk-toggleable__label-arrow\">estimator: SVC</label><div class=\"sk-toggleable__content\"><pre>SVC(random_state=42)</pre></div></div></div><div class=\"sk-serial\"><div class=\"sk-item\"><div class=\"sk-estimator sk-toggleable\"><input class=\"sk-toggleable__control sk-hidden--visually\" id=\"sk-estimator-id-4\" type=\"checkbox\" ><label for=\"sk-estimator-id-4\" class=\"sk-toggleable__label sk-toggleable__label-arrow\">SVC</label><div class=\"sk-toggleable__content\"><pre>SVC(random_state=42)</pre></div></div></div></div></div></div></div></div></div></div>"
      ],
      "text/plain": [
       "OneVsOneClassifier(estimator=SVC(random_state=42))"
      ]
     },
     "execution_count": 93,
     "metadata": {},
     "output_type": "execute_result"
    }
   ],
   "source": [
    "#Multiclass Classification\n",
    "#Whereas binary classifiers distinguish between two classes, \n",
    "#multiclass classifiers (also called multinomial classifiers) \n",
    "#can distinguish between more than two classes.\n",
    "\n",
    "\n",
    "\n",
    "#Some Scikit-Learn classifiers (e.g., LogisticRegression, \n",
    "#RandomForestClassifier, and GaussianNB) are capable of handling \n",
    "#multiple classes natively. Others are strictly binary classifiers\n",
    "#(e.g., SGDClassifier and SVC). However, there are various strategies \n",
    "#that you can use to perform multiclass classification with multiple\n",
    "#binary classifiers. One way to create a system that can classify the\n",
    "#digit images into 10 classes (from 0 to 9) is to train 10 binary\n",
    "#classifiers, one for each digit (a 0-detector, a 1-detector, a \n",
    "#2-detector, and so on). Then when you want to classify an image, \n",
    "#you get the decision score from each classifier for that image and\n",
    "#you select the class whose classifier outputs the highest score. \n",
    "#This is called the one-versus-the-rest (OvR) strategy, or sometimes\n",
    "#one-versus-all (OvA).\n",
    "\n",
    "#Another strategy is to train a binary classifier for every pair of \n",
    "#digits: one to distinguish 0s and 1s, another to distinguish 0s and 2s,\n",
    "#another for 1s and 2s, and so on. This is called the one-versus-one \n",
    "#(OvO) strategy. If there are N classes, you need to train \n",
    "#N × (N – 1) / 2 classifiers. For the MNIST problem, this means \n",
    "#training 45 binary classifiers! When you want to classify an image, \n",
    "#you have to run the image through all 45 classifiers and see which \n",
    "#class wins the most duels. The main advantage of OvO is that each \n",
    "#classifier only needs to be trained on the part of the training set\n",
    "#containing the two classes that it must distinguish.\n",
    "\n",
    "#Some algorithms (such as support vector machine classifiers) scale \n",
    "#poorly with the size of the training set. For these algorithms OvO \n",
    "#is preferred because it is faster to train many classifiers on small\n",
    "#training sets than to train few classifiers on large training sets.\n",
    "#For most binary classification algorithms, however, OvR is preferred.\n",
    "\n",
    "\n",
    "#Scikit-Learn detects when you try to use a binary classification \n",
    "#algorithm for a multiclass classification task, and it automatically\n",
    "#runs OvR or OvO, depending on the algorithm. Let’s try this with a \n",
    "#support vector machine classifier using the sklearn.svm.SVC class \n",
    "#(see Chapter 5). We’ll only train on the first 2,000 images, or else\n",
    "#it will take a very long time:\n",
    "\n",
    "#here I am importing and forcing OneVsOneClassifier just to confirm \n",
    "#that there are in total 45 different classifiers in OvO approach:\n",
    "\n",
    "from sklearn.svm import SVC\n",
    "from sklearn.multiclass import OneVsOneClassifier\n",
    "\n",
    "svm_clf = OneVsOneClassifier(SVC(random_state=42))\n",
    "svm_clf.fit(X_train[:2000], y_train[:2000]) #y_train, not y_train_5"
   ]
  },
  {
   "cell_type": "code",
   "execution_count": 94,
   "id": "a69d98d3",
   "metadata": {},
   "outputs": [
    {
     "data": {
      "text/plain": [
       "array(['5', '0', '4', ..., '5', '6', '8'], dtype=object)"
      ]
     },
     "execution_count": 94,
     "metadata": {},
     "output_type": "execute_result"
    }
   ],
   "source": [
    "y_train"
   ]
  },
  {
   "cell_type": "code",
   "execution_count": 95,
   "id": "777f5409",
   "metadata": {},
   "outputs": [
    {
     "data": {
      "text/plain": [
       "array([ True, False, False, ...,  True, False, False])"
      ]
     },
     "execution_count": 95,
     "metadata": {},
     "output_type": "execute_result"
    }
   ],
   "source": [
    "y_train_5"
   ]
  },
  {
   "cell_type": "code",
   "execution_count": 96,
   "id": "496ba342",
   "metadata": {},
   "outputs": [
    {
     "data": {
      "text/plain": [
       "array(['5'], dtype=object)"
      ]
     },
     "execution_count": 96,
     "metadata": {},
     "output_type": "execute_result"
    }
   ],
   "source": [
    "#That was easy! We trained the SVC using the original target classes\n",
    "#from 0 to 9 (y_train), instead of the 5-versus-the-rest target classes \n",
    "#(y_train_5). Since there are 10 classes (i.e., more than 2),\n",
    "#Scikit-Learn used the OvO strategy and trained 45 binary classifiers.\n",
    "#Now let’s make a prediction on an image:\n",
    "\n",
    "svm_clf.predict([some_digit])"
   ]
  },
  {
   "cell_type": "code",
   "execution_count": 97,
   "id": "6abd6df9",
   "metadata": {},
   "outputs": [
    {
     "data": {
      "text/plain": [
       "(784,)"
      ]
     },
     "execution_count": 97,
     "metadata": {},
     "output_type": "execute_result"
    }
   ],
   "source": [
    "some_digit.shape"
   ]
  },
  {
   "cell_type": "code",
   "execution_count": 98,
   "id": "856bcc3c",
   "metadata": {},
   "outputs": [
    {
     "data": {
      "text/plain": [
       "array([[ 3.79,  0.73,  6.05,  8.3 , -0.29,  9.3 ,  1.75,  2.77,  7.2 ,\n",
       "         4.82]])"
      ]
     },
     "execution_count": 98,
     "metadata": {},
     "output_type": "execute_result"
    }
   ],
   "source": [
    "#That’s correct! This code actually made 45 predictions—one per pair \n",
    "#of classes—and it selected the class that won the most duels. If you\n",
    "#call the decision_function() method, you will see that it returns \n",
    "#10 scores per instance: one per class. Each class gets a score equal \n",
    "#to the number of won duels plus or minus a small tweak (max ±0.33) to\n",
    "#break ties, based on the classifier scores:\n",
    "\n",
    "\n",
    "some_digit_scores = svm_clf.decision_function([some_digit])\n",
    "some_digit_scores.round(2)"
   ]
  },
  {
   "cell_type": "code",
   "execution_count": 99,
   "id": "31b30fca",
   "metadata": {},
   "outputs": [],
   "source": [
    "#The highest score is 9.3, and it’s indeed the one corresponding \n",
    "#to class 5:"
   ]
  },
  {
   "cell_type": "code",
   "execution_count": 100,
   "id": "c75ea8e9",
   "metadata": {},
   "outputs": [
    {
     "data": {
      "text/plain": [
       "5"
      ]
     },
     "execution_count": 100,
     "metadata": {},
     "output_type": "execute_result"
    }
   ],
   "source": [
    "class_id = some_digit_scores.argmax()\n",
    "class_id"
   ]
  },
  {
   "cell_type": "code",
   "execution_count": 101,
   "id": "ffc03972",
   "metadata": {},
   "outputs": [
    {
     "data": {
      "text/plain": [
       "array(['0', '1', '2', '3', '4', '5', '6', '7', '8', '9'], dtype=object)"
      ]
     },
     "execution_count": 101,
     "metadata": {},
     "output_type": "execute_result"
    }
   ],
   "source": [
    "#When a classifier is trained, it stores the list of target classes\n",
    "#in its classes_ attribute, ordered by value. In the case of MNIST, \n",
    "#the index of each class in the classes_ array conveniently matches \n",
    "#the class itself (e.g., the class at index 5 happens to be class '5'), \n",
    "#but in general you won’t be so lucky; you will need to look up the \n",
    "#class label like this:\n",
    "\n",
    "svm_clf.classes_"
   ]
  },
  {
   "cell_type": "code",
   "execution_count": 102,
   "id": "1687d5f4",
   "metadata": {},
   "outputs": [
    {
     "data": {
      "text/plain": [
       "'5'"
      ]
     },
     "execution_count": 102,
     "metadata": {},
     "output_type": "execute_result"
    }
   ],
   "source": [
    "svm_clf.classes_[class_id]"
   ]
  },
  {
   "cell_type": "code",
   "execution_count": 103,
   "id": "61d8b743",
   "metadata": {},
   "outputs": [
    {
     "data": {
      "text/plain": [
       "45"
      ]
     },
     "execution_count": 103,
     "metadata": {},
     "output_type": "execute_result"
    }
   ],
   "source": [
    "len(svm_clf.estimators_)"
   ]
  },
  {
   "cell_type": "code",
   "execution_count": 104,
   "id": "6e9cd5fd",
   "metadata": {},
   "outputs": [
    {
     "data": {
      "text/html": [
       "<style>#sk-container-id-3 {color: black;background-color: white;}#sk-container-id-3 pre{padding: 0;}#sk-container-id-3 div.sk-toggleable {background-color: white;}#sk-container-id-3 label.sk-toggleable__label {cursor: pointer;display: block;width: 100%;margin-bottom: 0;padding: 0.3em;box-sizing: border-box;text-align: center;}#sk-container-id-3 label.sk-toggleable__label-arrow:before {content: \"▸\";float: left;margin-right: 0.25em;color: #696969;}#sk-container-id-3 label.sk-toggleable__label-arrow:hover:before {color: black;}#sk-container-id-3 div.sk-estimator:hover label.sk-toggleable__label-arrow:before {color: black;}#sk-container-id-3 div.sk-toggleable__content {max-height: 0;max-width: 0;overflow: hidden;text-align: left;background-color: #f0f8ff;}#sk-container-id-3 div.sk-toggleable__content pre {margin: 0.2em;color: black;border-radius: 0.25em;background-color: #f0f8ff;}#sk-container-id-3 input.sk-toggleable__control:checked~div.sk-toggleable__content {max-height: 200px;max-width: 100%;overflow: auto;}#sk-container-id-3 input.sk-toggleable__control:checked~label.sk-toggleable__label-arrow:before {content: \"▾\";}#sk-container-id-3 div.sk-estimator input.sk-toggleable__control:checked~label.sk-toggleable__label {background-color: #d4ebff;}#sk-container-id-3 div.sk-label input.sk-toggleable__control:checked~label.sk-toggleable__label {background-color: #d4ebff;}#sk-container-id-3 input.sk-hidden--visually {border: 0;clip: rect(1px 1px 1px 1px);clip: rect(1px, 1px, 1px, 1px);height: 1px;margin: -1px;overflow: hidden;padding: 0;position: absolute;width: 1px;}#sk-container-id-3 div.sk-estimator {font-family: monospace;background-color: #f0f8ff;border: 1px dotted black;border-radius: 0.25em;box-sizing: border-box;margin-bottom: 0.5em;}#sk-container-id-3 div.sk-estimator:hover {background-color: #d4ebff;}#sk-container-id-3 div.sk-parallel-item::after {content: \"\";width: 100%;border-bottom: 1px solid gray;flex-grow: 1;}#sk-container-id-3 div.sk-label:hover label.sk-toggleable__label {background-color: #d4ebff;}#sk-container-id-3 div.sk-serial::before {content: \"\";position: absolute;border-left: 1px solid gray;box-sizing: border-box;top: 0;bottom: 0;left: 50%;z-index: 0;}#sk-container-id-3 div.sk-serial {display: flex;flex-direction: column;align-items: center;background-color: white;padding-right: 0.2em;padding-left: 0.2em;position: relative;}#sk-container-id-3 div.sk-item {position: relative;z-index: 1;}#sk-container-id-3 div.sk-parallel {display: flex;align-items: stretch;justify-content: center;background-color: white;position: relative;}#sk-container-id-3 div.sk-item::before, #sk-container-id-3 div.sk-parallel-item::before {content: \"\";position: absolute;border-left: 1px solid gray;box-sizing: border-box;top: 0;bottom: 0;left: 50%;z-index: -1;}#sk-container-id-3 div.sk-parallel-item {display: flex;flex-direction: column;z-index: 1;position: relative;background-color: white;}#sk-container-id-3 div.sk-parallel-item:first-child::after {align-self: flex-end;width: 50%;}#sk-container-id-3 div.sk-parallel-item:last-child::after {align-self: flex-start;width: 50%;}#sk-container-id-3 div.sk-parallel-item:only-child::after {width: 0;}#sk-container-id-3 div.sk-dashed-wrapped {border: 1px dashed gray;margin: 0 0.4em 0.5em 0.4em;box-sizing: border-box;padding-bottom: 0.4em;background-color: white;}#sk-container-id-3 div.sk-label label {font-family: monospace;font-weight: bold;display: inline-block;line-height: 1.2em;}#sk-container-id-3 div.sk-label-container {text-align: center;}#sk-container-id-3 div.sk-container {/* jupyter's `normalize.less` sets `[hidden] { display: none; }` but bootstrap.min.css set `[hidden] { display: none !important; }` so we also need the `!important` here to be able to override the default hidden behavior on the sphinx rendered scikit-learn.org. See: https://github.com/scikit-learn/scikit-learn/issues/21755 */display: inline-block !important;position: relative;}#sk-container-id-3 div.sk-text-repr-fallback {display: none;}</style><div id=\"sk-container-id-3\" class=\"sk-top-container\"><div class=\"sk-text-repr-fallback\"><pre>OneVsRestClassifier(estimator=SVC(random_state=42))</pre><b>In a Jupyter environment, please rerun this cell to show the HTML representation or trust the notebook. <br />On GitHub, the HTML representation is unable to render, please try loading this page with nbviewer.org.</b></div><div class=\"sk-container\" hidden><div class=\"sk-item sk-dashed-wrapped\"><div class=\"sk-label-container\"><div class=\"sk-label sk-toggleable\"><input class=\"sk-toggleable__control sk-hidden--visually\" id=\"sk-estimator-id-5\" type=\"checkbox\" ><label for=\"sk-estimator-id-5\" class=\"sk-toggleable__label sk-toggleable__label-arrow\">OneVsRestClassifier</label><div class=\"sk-toggleable__content\"><pre>OneVsRestClassifier(estimator=SVC(random_state=42))</pre></div></div></div><div class=\"sk-parallel\"><div class=\"sk-parallel-item\"><div class=\"sk-item\"><div class=\"sk-label-container\"><div class=\"sk-label sk-toggleable\"><input class=\"sk-toggleable__control sk-hidden--visually\" id=\"sk-estimator-id-6\" type=\"checkbox\" ><label for=\"sk-estimator-id-6\" class=\"sk-toggleable__label sk-toggleable__label-arrow\">estimator: SVC</label><div class=\"sk-toggleable__content\"><pre>SVC(random_state=42)</pre></div></div></div><div class=\"sk-serial\"><div class=\"sk-item\"><div class=\"sk-estimator sk-toggleable\"><input class=\"sk-toggleable__control sk-hidden--visually\" id=\"sk-estimator-id-7\" type=\"checkbox\" ><label for=\"sk-estimator-id-7\" class=\"sk-toggleable__label sk-toggleable__label-arrow\">SVC</label><div class=\"sk-toggleable__content\"><pre>SVC(random_state=42)</pre></div></div></div></div></div></div></div></div></div></div>"
      ],
      "text/plain": [
       "OneVsRestClassifier(estimator=SVC(random_state=42))"
      ]
     },
     "execution_count": 104,
     "metadata": {},
     "output_type": "execute_result"
    }
   ],
   "source": [
    "#If you want to force Scikit-Learn to use one-versus-one or \n",
    "#one-versus-the- rest, you can use the OneVsOneClassifier or \n",
    "#OneVsRestClassifier classes. Simply create an instance and pass a \n",
    "#classifier to its constructor (it doesn’t even have to be a binary\n",
    "#classifier). For example, this code creates a multiclass classifier\n",
    "#using the OvR strategy, based on an SVC:\n",
    "\n",
    "\n",
    "from sklearn.multiclass import OneVsRestClassifier\n",
    "\n",
    "ovr_clf = OneVsRestClassifier(SVC(random_state=42))\n",
    "ovr_clf.fit(X_train[:2000], y_train[:2000])"
   ]
  },
  {
   "cell_type": "code",
   "execution_count": 105,
   "id": "55ba288e",
   "metadata": {},
   "outputs": [
    {
     "data": {
      "text/plain": [
       "array(['5'], dtype='<U1')"
      ]
     },
     "execution_count": 105,
     "metadata": {},
     "output_type": "execute_result"
    }
   ],
   "source": [
    "ovr_clf.predict([some_digit])"
   ]
  },
  {
   "cell_type": "code",
   "execution_count": 106,
   "id": "2b05438a",
   "metadata": {},
   "outputs": [
    {
     "data": {
      "text/plain": [
       "10"
      ]
     },
     "execution_count": 106,
     "metadata": {},
     "output_type": "execute_result"
    }
   ],
   "source": [
    "len(ovr_clf.estimators_)"
   ]
  },
  {
   "cell_type": "code",
   "execution_count": 107,
   "id": "9ca96af1",
   "metadata": {},
   "outputs": [
    {
     "data": {
      "text/html": [
       "<style>#sk-container-id-4 {color: black;background-color: white;}#sk-container-id-4 pre{padding: 0;}#sk-container-id-4 div.sk-toggleable {background-color: white;}#sk-container-id-4 label.sk-toggleable__label {cursor: pointer;display: block;width: 100%;margin-bottom: 0;padding: 0.3em;box-sizing: border-box;text-align: center;}#sk-container-id-4 label.sk-toggleable__label-arrow:before {content: \"▸\";float: left;margin-right: 0.25em;color: #696969;}#sk-container-id-4 label.sk-toggleable__label-arrow:hover:before {color: black;}#sk-container-id-4 div.sk-estimator:hover label.sk-toggleable__label-arrow:before {color: black;}#sk-container-id-4 div.sk-toggleable__content {max-height: 0;max-width: 0;overflow: hidden;text-align: left;background-color: #f0f8ff;}#sk-container-id-4 div.sk-toggleable__content pre {margin: 0.2em;color: black;border-radius: 0.25em;background-color: #f0f8ff;}#sk-container-id-4 input.sk-toggleable__control:checked~div.sk-toggleable__content {max-height: 200px;max-width: 100%;overflow: auto;}#sk-container-id-4 input.sk-toggleable__control:checked~label.sk-toggleable__label-arrow:before {content: \"▾\";}#sk-container-id-4 div.sk-estimator input.sk-toggleable__control:checked~label.sk-toggleable__label {background-color: #d4ebff;}#sk-container-id-4 div.sk-label input.sk-toggleable__control:checked~label.sk-toggleable__label {background-color: #d4ebff;}#sk-container-id-4 input.sk-hidden--visually {border: 0;clip: rect(1px 1px 1px 1px);clip: rect(1px, 1px, 1px, 1px);height: 1px;margin: -1px;overflow: hidden;padding: 0;position: absolute;width: 1px;}#sk-container-id-4 div.sk-estimator {font-family: monospace;background-color: #f0f8ff;border: 1px dotted black;border-radius: 0.25em;box-sizing: border-box;margin-bottom: 0.5em;}#sk-container-id-4 div.sk-estimator:hover {background-color: #d4ebff;}#sk-container-id-4 div.sk-parallel-item::after {content: \"\";width: 100%;border-bottom: 1px solid gray;flex-grow: 1;}#sk-container-id-4 div.sk-label:hover label.sk-toggleable__label {background-color: #d4ebff;}#sk-container-id-4 div.sk-serial::before {content: \"\";position: absolute;border-left: 1px solid gray;box-sizing: border-box;top: 0;bottom: 0;left: 50%;z-index: 0;}#sk-container-id-4 div.sk-serial {display: flex;flex-direction: column;align-items: center;background-color: white;padding-right: 0.2em;padding-left: 0.2em;position: relative;}#sk-container-id-4 div.sk-item {position: relative;z-index: 1;}#sk-container-id-4 div.sk-parallel {display: flex;align-items: stretch;justify-content: center;background-color: white;position: relative;}#sk-container-id-4 div.sk-item::before, #sk-container-id-4 div.sk-parallel-item::before {content: \"\";position: absolute;border-left: 1px solid gray;box-sizing: border-box;top: 0;bottom: 0;left: 50%;z-index: -1;}#sk-container-id-4 div.sk-parallel-item {display: flex;flex-direction: column;z-index: 1;position: relative;background-color: white;}#sk-container-id-4 div.sk-parallel-item:first-child::after {align-self: flex-end;width: 50%;}#sk-container-id-4 div.sk-parallel-item:last-child::after {align-self: flex-start;width: 50%;}#sk-container-id-4 div.sk-parallel-item:only-child::after {width: 0;}#sk-container-id-4 div.sk-dashed-wrapped {border: 1px dashed gray;margin: 0 0.4em 0.5em 0.4em;box-sizing: border-box;padding-bottom: 0.4em;background-color: white;}#sk-container-id-4 div.sk-label label {font-family: monospace;font-weight: bold;display: inline-block;line-height: 1.2em;}#sk-container-id-4 div.sk-label-container {text-align: center;}#sk-container-id-4 div.sk-container {/* jupyter's `normalize.less` sets `[hidden] { display: none; }` but bootstrap.min.css set `[hidden] { display: none !important; }` so we also need the `!important` here to be able to override the default hidden behavior on the sphinx rendered scikit-learn.org. See: https://github.com/scikit-learn/scikit-learn/issues/21755 */display: inline-block !important;position: relative;}#sk-container-id-4 div.sk-text-repr-fallback {display: none;}</style><div id=\"sk-container-id-4\" class=\"sk-top-container\"><div class=\"sk-text-repr-fallback\"><pre>SGDClassifier(random_state=42)</pre><b>In a Jupyter environment, please rerun this cell to show the HTML representation or trust the notebook. <br />On GitHub, the HTML representation is unable to render, please try loading this page with nbviewer.org.</b></div><div class=\"sk-container\" hidden><div class=\"sk-item\"><div class=\"sk-estimator sk-toggleable\"><input class=\"sk-toggleable__control sk-hidden--visually\" id=\"sk-estimator-id-8\" type=\"checkbox\" checked><label for=\"sk-estimator-id-8\" class=\"sk-toggleable__label sk-toggleable__label-arrow\">SGDClassifier</label><div class=\"sk-toggleable__content\"><pre>SGDClassifier(random_state=42)</pre></div></div></div></div></div>"
      ],
      "text/plain": [
       "SGDClassifier(random_state=42)"
      ]
     },
     "execution_count": 107,
     "metadata": {},
     "output_type": "execute_result"
    }
   ],
   "source": [
    "sgd_clf = SGDClassifier(random_state=42)\n",
    "sgd_clf.fit(X_train, y_train)"
   ]
  },
  {
   "cell_type": "code",
   "execution_count": 108,
   "id": "86eba458",
   "metadata": {},
   "outputs": [
    {
     "data": {
      "text/plain": [
       "array(['3'], dtype='<U1')"
      ]
     },
     "execution_count": 108,
     "metadata": {},
     "output_type": "execute_result"
    }
   ],
   "source": [
    "sgd_clf.predict([some_digit])"
   ]
  },
  {
   "cell_type": "code",
   "execution_count": 109,
   "id": "3f24b61d",
   "metadata": {},
   "outputs": [
    {
     "data": {
      "text/plain": [
       "array([[-31893., -34420.,  -9531.,   1824., -22320.,  -1386., -26189.,\n",
       "        -16148.,  -4604., -12051.]])"
      ]
     },
     "execution_count": 109,
     "metadata": {},
     "output_type": "execute_result"
    }
   ],
   "source": [
    "#Oops, that’s incorrect. Prediction errors do happen! This time \n",
    "#Scikit-Learn used the OvR strategy under the hood: since there are \n",
    "#10 classes, it trained 10 binary classifiers. The decision_function() \n",
    "#method now returns one value per class. Let’s look at the scores that \n",
    "#the SGD classifier assigned to each class:\n",
    "\n",
    "sgd_clf.decision_function([some_digit]).round()"
   ]
  },
  {
   "cell_type": "code",
   "execution_count": 110,
   "id": "9c842aa0",
   "metadata": {},
   "outputs": [
    {
     "data": {
      "text/plain": [
       "array([0.87365, 0.85835, 0.8689 ])"
      ]
     },
     "execution_count": 110,
     "metadata": {},
     "output_type": "execute_result"
    }
   ],
   "source": [
    "#You can see that the classifier is not very confident about \n",
    "#its prediction: almost all scores are very negative, while class \n",
    "#3 has a score of +1,824, and class 5 is not too far behind at –1,386. \n",
    "#Of course, you’ll want to evaluate this classifier on more than one \n",
    "#image. Since there are roughly the same number of images in each class, \n",
    "#the accuracy metric is fine. As usual, you can use \n",
    "#the cross_val_score() function to evaluate the model:\n",
    "\n",
    "cross_val_score(sgd_clf, X_train, y_train, cv=3, scoring=\"accuracy\")"
   ]
  },
  {
   "cell_type": "code",
   "execution_count": 111,
   "id": "abe5eb52",
   "metadata": {},
   "outputs": [
    {
     "data": {
      "text/plain": [
       "array([0.8983, 0.891 , 0.9018])"
      ]
     },
     "execution_count": 111,
     "metadata": {},
     "output_type": "execute_result"
    }
   ],
   "source": [
    "#It gets over 85.8% on all test folds. If you used a random classifier, \n",
    "#you would get 10% accuracy, so this is not such a bad score, but you \n",
    "#can still do much better. Simply scaling the inputs (as discussed in \n",
    "#Chapter 2) increases accuracy above 89.1%:\n",
    "\n",
    "from sklearn.preprocessing import StandardScaler\n",
    "scaler = StandardScaler()\n",
    "X_train_scaled = scaler.fit_transform(X_train.astype(\"float64\"))\n",
    "cross_val_score(sgd_clf, X_train_scaled, y_train, cv=3, \n",
    "                scoring=\"accuracy\")"
   ]
  },
  {
   "cell_type": "code",
   "execution_count": 112,
   "id": "9193aa9d",
   "metadata": {},
   "outputs": [],
   "source": [
    "#Error Analysis\n",
    "#If this were a real project, you would now follow the steps in your \n",
    "#machine learning project checklist (see Appendix A). You’d explore \n",
    "#data preparation options, try out multiple models, shortlist the best\n",
    "#ones, fine-tune their hyperparameters using GridSearchCV, and automate\n",
    "#as much as possible. Here, we will assume that you have found a \n",
    "#promising model and you want to find ways to improve it. One way to \n",
    "#do this is to analyze the types of errors it makes.\n",
    "\n",
    "#First, look at the confusion matrix. For this, you first need to \n",
    "#make predictions using the cross_val_predict() function; then you can \n",
    "#pass the labels and predictions to the confusion_matrix() function, \n",
    "#just like you did earlier. However, since there are now 10 classes \n",
    "#instead of 2, the confusion matrix will contain quite a lot of numbers,\n",
    "#and it may be hard to read.\n",
    "#A colored diagram of the confusion matrix is much easier to analyze. \n",
    "#To plot such a diagram, use the ConfusionMatrixDisplay.from_predictions()\n",
    "#function like this:\n",
    "\n",
    "\n",
    "from sklearn.metrics import ConfusionMatrixDisplay\n",
    "\n",
    "y_train_pred = cross_val_predict(sgd_clf, X_train_scaled,\n",
    "                                y_train, cv=3)    "
   ]
  },
  {
   "cell_type": "code",
   "execution_count": 117,
   "id": "d3db348c",
   "metadata": {},
   "outputs": [
    {
     "data": {
      "image/png": "[encoded data removed]",
      "text/plain": [
       "<Figure size 640x480 with 2 Axes>"
      ]
     },
     "metadata": {},
     "output_type": "display_data"
    }
   ],
   "source": [
    "ConfusionMatrixDisplay.from_predictions(y_train, y_train_pred)\n",
    "plt.show()"
   ]
  },
  {
   "cell_type": "code",
   "execution_count": 119,
   "id": "96307cc3",
   "metadata": {},
   "outputs": [
    {
     "data": {
      "image/png": "[encoded data removed]",
      "text/plain": [
       "<Figure size 640x480 with 2 Axes>"
      ]
     },
     "metadata": {},
     "output_type": "display_data"
    }
   ],
   "source": [
    "ConfusionMatrixDisplay.from_predictions(y_train, y_train_pred, normalize=\"true\",\n",
    "                                       values_format=\".0%\")\n",
    "plt.show()"
   ]
  },
  {
   "cell_type": "code",
   "execution_count": 120,
   "id": "34d67d70",
   "metadata": {},
   "outputs": [],
   "source": [
    "sample_weight = (y_train_pred != y_train)"
   ]
  },
  {
   "cell_type": "code",
   "execution_count": 122,
   "id": "a78bb92f",
   "metadata": {},
   "outputs": [
    {
     "data": {
      "image/png": "[encoded data removed]",
      "text/plain": [
       "<Figure size 640x480 with 2 Axes>"
      ]
     },
     "metadata": {},
     "output_type": "display_data"
    }
   ],
   "source": [
    "ConfusionMatrixDisplay.from_predictions(y_train, y_train_pred,\n",
    "                                       sample_weight=sample_weight,\n",
    "                                       normalize=\"true\", values_format=\".0%\")\n",
    "plt.show()\n",
    "\n",
    "\n",
    "#Now you can see much more clearly the kinds of errors the classifier makes. \n",
    "#The column for class 8 is now really bright, which confirms that many images \n",
    "#got misclassified as 8s. In fact this is the most common misclassification for \n",
    "#almost all classes. But be careful how you interpret the percentages in this \n",
    "#diagram: remember that we’ve excluded the correct predictions. For example, \n",
    "#the 36% in row #7, column #9 does not mean that 36% of all images of 7s were \n",
    "#misclassified as 9s. It means that 36% of the errors the model made on images \n",
    "#of 7s were misclassifications as 9s. In reality, only 3% of images of 7s were \n",
    "#misclassified as 9s, as you can see in the diagram on the right in Figure 3-9.\n"
   ]
  },
  {
   "cell_type": "code",
   "execution_count": 129,
   "id": "a3c25921",
   "metadata": {},
   "outputs": [
    {
     "data": {
      "text/plain": [
       "array([[False,  True]])"
      ]
     },
     "execution_count": 129,
     "metadata": {},
     "output_type": "execute_result"
    }
   ],
   "source": [
    "#Multilabel Classification\n",
    "#Until now, each instance has always been assigned to just one class. But \n",
    "#in some cases you may want your classifier to output multiple classes for \n",
    "#each instance. Consider a face-recognition classifier: what should it do if \n",
    "#it recognizes several people in the same picture? It should attach one tag \n",
    "#per person it recognizes. Say the classifier has been trained to recognize \n",
    "#three faces: Alice, Bob, and Charlie. Then when the classifier is shown a \n",
    "#picture of Alice and Charlie, it should output [True, False, True] (meaning \n",
    "#“Alice yes, Bob no, Charlie yes”). Such a classification system that outputs \n",
    "#multiple binary tags is called a multilabel classification system.\n",
    "        \n",
    "#We won’t go into face recognition just yet, but let’s look at a simpler example, \n",
    "#just for illustration purposes:\n",
    "\n",
    "\n",
    "import numpy as np\n",
    "from sklearn.neighbors import KNeighborsClassifier\n",
    "\n",
    "y_train_large = (y_train >= '7')\n",
    "y_train_odd = (y_train.astype('int8') % 2 == 1)\n",
    "y_multilabel = np.c_[y_train_large, y_train_odd]\n",
    "\n",
    "knn_clf = KNeighborsClassifier()\n",
    "knn_clf.fit(X_train, y_multilabel)\n",
    "\n",
    "#This code creates a y_multilabel array containing two target labels for each digit \n",
    "#image: the first indicates whether or not the digit is large (7, 8, or 9), and the \n",
    "#second indicates whether or not it is odd. Then the code creates a KNeighborsClassifier \n",
    "#instance, which supports multilabel classification (not all classifiers do), and \n",
    "#trains this model using the multiple targets array. Now you can make a prediction, \n",
    "#and notice that it outputs two labels:\n",
    "\n",
    "knn_clf.predict([some_digit])\n",
    "\n",
    "#And it gets it right! The digit 5 is indeed not large (False) and odd (True)."
   ]
  },
  {
   "cell_type": "code",
   "execution_count": 130,
   "id": "746505fd",
   "metadata": {},
   "outputs": [],
   "source": [
    "#There are many ways to evaluate a multilabel classifier, and selecting the right \n",
    "#metric really depends on your project. One approach is to measure the F1 score \n",
    "#for each individual label (or any other binary classifier metric discussed earlier), \n",
    "#then simply compute the average score. The following code computes the average F1 \n",
    "#score across all labels:\n",
    "\n",
    "\n",
    "y_train_knn_pred = cross_val_predict(knn_clf, X_train, y_multilabel, cv=3)\n"
   ]
  },
  {
   "cell_type": "code",
   "execution_count": 131,
   "id": "fffec710",
   "metadata": {},
   "outputs": [
    {
     "data": {
      "text/plain": [
       "array([[False,  True],\n",
       "       [False, False],\n",
       "       [False, False],\n",
       "       ...,\n",
       "       [False,  True],\n",
       "       [False, False],\n",
       "       [ True, False]])"
      ]
     },
     "execution_count": 131,
     "metadata": {},
     "output_type": "execute_result"
    }
   ],
   "source": [
    "y_train_knn_pred"
   ]
  },
  {
   "cell_type": "code",
   "execution_count": 133,
   "id": "4b8ffdee",
   "metadata": {},
   "outputs": [
    {
     "data": {
      "text/plain": [
       "0.9778357403921755"
      ]
     },
     "execution_count": 133,
     "metadata": {},
     "output_type": "execute_result"
    }
   ],
   "source": [
    "#This approach assumes that all labels are equally important, which may not be the case. \n",
    "#In particular, if you have many more pictures of Alice than of Bob or Charlie, you may \n",
    "#want to give more weight to the classifier’s score on pictures of Alice. One simple option\n",
    "#is to give each label a weight equal to its support (i.e., the number of instances with \n",
    "#that target label). To do this, simply set average=\"weighted\" when calling the f1_score() \n",
    "#function\n",
    "\n",
    "f1_score(y_multilabel, y_train_knn_pred, average=\"weighted\")"
   ]
  },
  {
   "cell_type": "code",
   "execution_count": 135,
   "id": "9d77c867",
   "metadata": {},
   "outputs": [
    {
     "data": {
      "text/html": [
       "<style>#sk-container-id-7 {color: black;background-color: white;}#sk-container-id-7 pre{padding: 0;}#sk-container-id-7 div.sk-toggleable {background-color: white;}#sk-container-id-7 label.sk-toggleable__label {cursor: pointer;display: block;width: 100%;margin-bottom: 0;padding: 0.3em;box-sizing: border-box;text-align: center;}#sk-container-id-7 label.sk-toggleable__label-arrow:before {content: \"▸\";float: left;margin-right: 0.25em;color: #696969;}#sk-container-id-7 label.sk-toggleable__label-arrow:hover:before {color: black;}#sk-container-id-7 div.sk-estimator:hover label.sk-toggleable__label-arrow:before {color: black;}#sk-container-id-7 div.sk-toggleable__content {max-height: 0;max-width: 0;overflow: hidden;text-align: left;background-color: #f0f8ff;}#sk-container-id-7 div.sk-toggleable__content pre {margin: 0.2em;color: black;border-radius: 0.25em;background-color: #f0f8ff;}#sk-container-id-7 input.sk-toggleable__control:checked~div.sk-toggleable__content {max-height: 200px;max-width: 100%;overflow: auto;}#sk-container-id-7 input.sk-toggleable__control:checked~label.sk-toggleable__label-arrow:before {content: \"▾\";}#sk-container-id-7 div.sk-estimator input.sk-toggleable__control:checked~label.sk-toggleable__label {background-color: #d4ebff;}#sk-container-id-7 div.sk-label input.sk-toggleable__control:checked~label.sk-toggleable__label {background-color: #d4ebff;}#sk-container-id-7 input.sk-hidden--visually {border: 0;clip: rect(1px 1px 1px 1px);clip: rect(1px, 1px, 1px, 1px);height: 1px;margin: -1px;overflow: hidden;padding: 0;position: absolute;width: 1px;}#sk-container-id-7 div.sk-estimator {font-family: monospace;background-color: #f0f8ff;border: 1px dotted black;border-radius: 0.25em;box-sizing: border-box;margin-bottom: 0.5em;}#sk-container-id-7 div.sk-estimator:hover {background-color: #d4ebff;}#sk-container-id-7 div.sk-parallel-item::after {content: \"\";width: 100%;border-bottom: 1px solid gray;flex-grow: 1;}#sk-container-id-7 div.sk-label:hover label.sk-toggleable__label {background-color: #d4ebff;}#sk-container-id-7 div.sk-serial::before {content: \"\";position: absolute;border-left: 1px solid gray;box-sizing: border-box;top: 0;bottom: 0;left: 50%;z-index: 0;}#sk-container-id-7 div.sk-serial {display: flex;flex-direction: column;align-items: center;background-color: white;padding-right: 0.2em;padding-left: 0.2em;position: relative;}#sk-container-id-7 div.sk-item {position: relative;z-index: 1;}#sk-container-id-7 div.sk-parallel {display: flex;align-items: stretch;justify-content: center;background-color: white;position: relative;}#sk-container-id-7 div.sk-item::before, #sk-container-id-7 div.sk-parallel-item::before {content: \"\";position: absolute;border-left: 1px solid gray;box-sizing: border-box;top: 0;bottom: 0;left: 50%;z-index: -1;}#sk-container-id-7 div.sk-parallel-item {display: flex;flex-direction: column;z-index: 1;position: relative;background-color: white;}#sk-container-id-7 div.sk-parallel-item:first-child::after {align-self: flex-end;width: 50%;}#sk-container-id-7 div.sk-parallel-item:last-child::after {align-self: flex-start;width: 50%;}#sk-container-id-7 div.sk-parallel-item:only-child::after {width: 0;}#sk-container-id-7 div.sk-dashed-wrapped {border: 1px dashed gray;margin: 0 0.4em 0.5em 0.4em;box-sizing: border-box;padding-bottom: 0.4em;background-color: white;}#sk-container-id-7 div.sk-label label {font-family: monospace;font-weight: bold;display: inline-block;line-height: 1.2em;}#sk-container-id-7 div.sk-label-container {text-align: center;}#sk-container-id-7 div.sk-container {/* jupyter's `normalize.less` sets `[hidden] { display: none; }` but bootstrap.min.css set `[hidden] { display: none !important; }` so we also need the `!important` here to be able to override the default hidden behavior on the sphinx rendered scikit-learn.org. See: https://github.com/scikit-learn/scikit-learn/issues/21755 */display: inline-block !important;position: relative;}#sk-container-id-7 div.sk-text-repr-fallback {display: none;}</style><div id=\"sk-container-id-7\" class=\"sk-top-container\"><div class=\"sk-text-repr-fallback\"><pre>ClassifierChain(base_estimator=SVC(), cv=3, random_state=42)</pre><b>In a Jupyter environment, please rerun this cell to show the HTML representation or trust the notebook. <br />On GitHub, the HTML representation is unable to render, please try loading this page with nbviewer.org.</b></div><div class=\"sk-container\" hidden><div class=\"sk-item sk-dashed-wrapped\"><div class=\"sk-label-container\"><div class=\"sk-label sk-toggleable\"><input class=\"sk-toggleable__control sk-hidden--visually\" id=\"sk-estimator-id-11\" type=\"checkbox\" ><label for=\"sk-estimator-id-11\" class=\"sk-toggleable__label sk-toggleable__label-arrow\">ClassifierChain</label><div class=\"sk-toggleable__content\"><pre>ClassifierChain(base_estimator=SVC(), cv=3, random_state=42)</pre></div></div></div><div class=\"sk-parallel\"><div class=\"sk-parallel-item\"><div class=\"sk-item\"><div class=\"sk-label-container\"><div class=\"sk-label sk-toggleable\"><input class=\"sk-toggleable__control sk-hidden--visually\" id=\"sk-estimator-id-12\" type=\"checkbox\" ><label for=\"sk-estimator-id-12\" class=\"sk-toggleable__label sk-toggleable__label-arrow\">base_estimator: SVC</label><div class=\"sk-toggleable__content\"><pre>SVC()</pre></div></div></div><div class=\"sk-serial\"><div class=\"sk-item\"><div class=\"sk-estimator sk-toggleable\"><input class=\"sk-toggleable__control sk-hidden--visually\" id=\"sk-estimator-id-13\" type=\"checkbox\" ><label for=\"sk-estimator-id-13\" class=\"sk-toggleable__label sk-toggleable__label-arrow\">SVC</label><div class=\"sk-toggleable__content\"><pre>SVC()</pre></div></div></div></div></div></div></div></div></div></div>"
      ],
      "text/plain": [
       "ClassifierChain(base_estimator=SVC(), cv=3, random_state=42)"
      ]
     },
     "execution_count": 135,
     "metadata": {},
     "output_type": "execute_result"
    }
   ],
   "source": [
    "from sklearn.multioutput import ClassifierChain\n",
    "chain_clf = ClassifierChain(SVC(), cv=3, random_state=42)\n",
    "chain_clf.fit(X_train[:2000], y_multilabel[:2000])"
   ]
  },
  {
   "cell_type": "code",
   "execution_count": 136,
   "id": "70f52e49",
   "metadata": {},
   "outputs": [
    {
     "data": {
      "text/plain": [
       "array([[0., 1.]])"
      ]
     },
     "execution_count": 136,
     "metadata": {},
     "output_type": "execute_result"
    }
   ],
   "source": [
    "chain_clf.predict([some_digit])"
   ]
  },
  {
   "cell_type": "code",
   "execution_count": 138,
   "id": "fdb390f3",
   "metadata": {},
   "outputs": [
    {
     "data": {
      "text/plain": [
       "array([[51, 92, 14, ..., 46, 24, 65],\n",
       "       [ 9, 55, 29, ..., 11, 14, 58],\n",
       "       [25, 25, 46, ..., 92, 25, 24],\n",
       "       ...,\n",
       "       [26, 20, 41, ..., 81, 92, 91],\n",
       "       [51, 55, 70, ..., 28, 29, 27],\n",
       "       [ 1,  0, 63, ..., 14,  5,  4]])"
      ]
     },
     "execution_count": 138,
     "metadata": {},
     "output_type": "execute_result"
    }
   ],
   "source": [
    "#Multioutput Classification\n",
    "#The last type of classification task we’ll discuss here is called multioutput– multiclass \n",
    "#classification (or just multioutput classification). It is a generalization of multilabel \n",
    "#classification where each label can be multiclass (i.e., it can have more than two possible\n",
    "#values). To illustrate this, let’s build a system that removes noise from images. It will\n",
    "#take as input a noisy digit image, and it will (hopefully) output a clean digit image, \n",
    "#represented as an array of pixel intensities, just like the MNIST images. Notice that \n",
    "#the classifier’s output is multilabel (one label per pixel) and each label can have \n",
    "#multiple values (pixel intensity ranges from 0 to 255). This is thus an example of \n",
    "#a multioutput classification system.\n",
    "\n",
    "#NOTE\n",
    "#The line between classification and regression is sometimes blurry, such as in this example.\n",
    "#Arguably, predicting pixel intensity is more akin to regression than to classification.\n",
    "#Moreover, multioutput systems are not limited to classification tasks; you could even\n",
    "#have a system that outputs multiple labels per instance, including both class labels and \n",
    "#value labels.\n",
    "\n",
    "\n",
    "#Let’s start by creating the training and test sets by taking the MNIST images and \n",
    "#adding noise to their pixel intensities with NumPy’s randint() function. The target \n",
    "#images will be the original images:\n",
    "\n",
    "\n",
    "np.random.seed(42)\n",
    "noise = np.random.randint(0, 100, (len(X_train), 784))\n",
    "noise"
   ]
  },
  {
   "cell_type": "code",
   "execution_count": 143,
   "id": "ae019c4e",
   "metadata": {},
   "outputs": [
    {
     "data": {
      "text/plain": [
       "array([[51., 92., 14., ..., 46., 24., 65.],\n",
       "       [ 9., 55., 29., ..., 11., 14., 58.],\n",
       "       [25., 25., 46., ..., 92., 25., 24.],\n",
       "       ...,\n",
       "       [26., 20., 41., ..., 81., 92., 91.],\n",
       "       [51., 55., 70., ..., 28., 29., 27.],\n",
       "       [ 1.,  0., 63., ..., 14.,  5.,  4.]])"
      ]
     },
     "execution_count": 143,
     "metadata": {},
     "output_type": "execute_result"
    }
   ],
   "source": [
    "X_train_mod = X_train + noise\n",
    "X_train_mod"
   ]
  },
  {
   "cell_type": "code",
   "execution_count": 145,
   "id": "f3076718",
   "metadata": {},
   "outputs": [],
   "source": [
    "noise = np.random.randint(0, 100, (len(X_test), 784)) #len(X_test) = 10000\n",
    "X_test_mod = X_test + noise\n",
    "y_train_mod = X_train\n",
    "y_test_mod = X_test "
   ]
  },
  {
   "cell_type": "code",
   "execution_count": 146,
   "id": "c875aa3c",
   "metadata": {},
   "outputs": [
    {
     "data": {
      "image/png": "[encoded data removed]",
      "text/plain": [
       "<Figure size 640x480 with 1 Axes>"
      ]
     },
     "metadata": {},
     "output_type": "display_data"
    }
   ],
   "source": [
    "knn_clf = KNeighborsClassifier()\n",
    "knn_clf.fit(X_train_mod, y_train_mod)\n",
    "clean_digit = knn_clf.predict([X_test_mod[0]])\n",
    "plot_digit(clean_digit)\n",
    "plt.show()"
   ]
  },
  {
   "cell_type": "code",
   "execution_count": 149,
   "id": "c0cc7fb0",
   "metadata": {},
   "outputs": [
    {
     "data": {
      "text/plain": [
       "(784,)"
      ]
     },
     "execution_count": 149,
     "metadata": {},
     "output_type": "execute_result"
    }
   ],
   "source": [
    "X_test_mod[0].shape"
   ]
  },
  {
   "cell_type": "code",
   "execution_count": null,
   "id": "27fd9a24",
   "metadata": {},
   "outputs": [],
   "source": [
    "#Looks close enough to the target! This concludes our tour of classification. \n",
    "#You now know how to select good metrics for classification tasks, pick the \n",
    "#appropriate precision/recall trade-off, compare classifiers, and more generally \n",
    "#build good classification systems for a variety of tasks. In the next chapters, \n",
    "#you’ll learn how all these machine learning models you’ve been using actually work.\n",
    "\n",
    "\n"
   ]
  },
  {
   "cell_type": "code",
   "execution_count": null,
   "id": "e109df2f",
   "metadata": {},
   "outputs": [],
   "source": []
  },
  {
   "cell_type": "code",
   "execution_count": null,
   "id": "d2b4d671",
   "metadata": {},
   "outputs": [],
   "source": []
  },
  {
   "cell_type": "code",
   "execution_count": null,
   "id": "15b829dd",
   "metadata": {},
   "outputs": [],
   "source": []
  }
 ],
 "metadata": {
  "kernelspec": {
   "display_name": "Python 3 (ipykernel)",
   "language": "python",
   "name": "python3"
  },
  "language_info": {
   "codemirror_mode": {
    "name": "ipython",
    "version": 3
   },
   "file_extension": ".py",
   "mimetype": "text/x-python",
   "name": "python",
   "nbconvert_exporter": "python",
   "pygments_lexer": "ipython3",
   "version": "3.10.8"
  }
 },
 "nbformat": 4,
 "nbformat_minor": 5
}
